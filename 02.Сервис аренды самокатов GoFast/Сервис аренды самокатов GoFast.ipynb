{
 "cells": [
  {
   "cell_type": "markdown",
   "id": "0d96a74e",
   "metadata": {
    "toc": true
   },
   "source": [
    "<h1>Table of Contents<span class=\"tocSkip\"></span></h1>\n",
    "<div class=\"toc\"><ul class=\"toc-item\"><li><span><a href=\"#Шаг-1.-Загрузка-данных\" data-toc-modified-id=\"Шаг-1.-Загрузка-данных-1\"><span class=\"toc-item-num\">1&nbsp;&nbsp;</span>Шаг 1. Загрузка данных</a></span></li><li><span><a href=\"#Шаг-2.-Предобработка-данных\" data-toc-modified-id=\"Шаг-2.-Предобработка-данных-2\"><span class=\"toc-item-num\">2&nbsp;&nbsp;</span>Шаг 2. Предобработка данных</a></span></li><li><span><a href=\"#Шаг-3.-Исследовательский-анализ-данных\" data-toc-modified-id=\"Шаг-3.-Исследовательский-анализ-данных-3\"><span class=\"toc-item-num\">3&nbsp;&nbsp;</span>Шаг 3. Исследовательский анализ данных</a></span></li><li><span><a href=\"#Шаг-4.-Объединение-данных\" data-toc-modified-id=\"Шаг-4.-Объединение-данных-4\"><span class=\"toc-item-num\">4&nbsp;&nbsp;</span>Шаг 4. Объединение данных</a></span></li><li><span><a href=\"#Шаг-5.-Подсчёт-выручки\" data-toc-modified-id=\"Шаг-5.-Подсчёт-выручки-5\"><span class=\"toc-item-num\">5&nbsp;&nbsp;</span>Шаг 5. Подсчёт выручки</a></span></li><li><span><a href=\"#Шаг-6.-Проверка-гипотез\" data-toc-modified-id=\"Шаг-6.-Проверка-гипотез-6\"><span class=\"toc-item-num\">6&nbsp;&nbsp;</span>Шаг 6. Проверка гипотез</a></span></li><li><span><a href=\"#Выводы\" data-toc-modified-id=\"Выводы-7\"><span class=\"toc-item-num\">7&nbsp;&nbsp;</span>Выводы</a></span></li></ul></div>"
   ]
  },
  {
   "cell_type": "markdown",
   "id": "89449bc1",
   "metadata": {},
   "source": [
    "# Проект по Статистическому анализу данных.  Сервис аренды самокатов GoFast"
   ]
  },
  {
   "cell_type": "markdown",
   "id": "cfa12495",
   "metadata": {},
   "source": [
    "Проанализируем сервис аренды самокатов **GoFast**.       \n",
    "Получили данные о некоторых пользователях из нескольких городов, а также об их поездках.   \n",
    "Необходимо проанализировать данные и провереть некоторые гипотезы, которые могут помочь бизнесу вырасти.  \n",
    "Чтобы совершать поездки по городу, пользователи сервиса GoFast пользуются мобильным приложением.   \n",
    "Сервисом можно пользоваться:\n",
    "1. без подписки:   \n",
    "    1.1. абонентская плата отсутствует;  \n",
    "    1.2. стоимость одной минуты поездки — 8 рублей;  \n",
    "    1.3.стоимость старта (начала поездки) — 50 рублей;  \n",
    "2. с подпиской Ultra:  \n",
    "    2.1.абонентская плата — 199 рублей в месяц;  \n",
    "    2.2.стоимость одной минуты поездки — 6 рублей;  \n",
    "    2.3.стоимость старта — бесплатно.  "
   ]
  },
  {
   "cell_type": "markdown",
   "id": "b9bd99fc",
   "metadata": {},
   "source": [
    "#### Шаг 1. Загрузка данных"
   ]
  },
  {
   "cell_type": "markdown",
   "id": "7619047b",
   "metadata": {},
   "source": [
    "**1.1.Загрузка данных**  \n",
    "На данном этапе загрузили три файла csv формата"
   ]
  },
  {
   "cell_type": "code",
   "execution_count": 1,
   "id": "8bbf7481",
   "metadata": {},
   "outputs": [],
   "source": [
    "import pandas as pd\n",
    "import matplotlib.pyplot as plt\n",
    "import seaborn as sns \n",
    "import numpy as np\n",
    "from scipy import stats as st\n",
    "#загрузили библиотеки которые понадобятся"
   ]
  },
  {
   "cell_type": "code",
   "execution_count": 2,
   "id": "e9961fad",
   "metadata": {},
   "outputs": [],
   "source": [
    "try:\n",
    "    users = pd.read_csv('C:\\\\Users\\\\DILYA\\\\Downloads\\\\Practicum\\\\data\\\\stat\\\\users_go.csv')\n",
    "except:\n",
    "    users = pd.read_csv('https://code.s3.yandex.net//datasets/users_go.csv')\n",
    "#данные о пользователях\n",
    "\n",
    "try:\n",
    "    rides = pd.read_csv('C:\\\\Users\\\\DILYA\\\\Downloads\\\\Practicum\\\\data\\\\stat\\\\rides_go.csv')\n",
    "except:\n",
    "    rides = pd.read_csv('https://code.s3.yandex.net//datasets/rides_go.csv')\n",
    "#данные о поездках\n",
    "\n",
    "try:\n",
    "    subscriptions = pd.read_csv('C:\\\\Users\\\\DILYA\\\\Downloads\\\\Practicum\\\\data\\\\stat\\\\subscriptions_go.csv')\n",
    "except:\n",
    "    subscriptions = pd.read_csv('https://code.s3.yandex.net//datasets/subscriptions_go.csv')\n",
    "#данные о типах подписок\n"
   ]
  },
  {
   "cell_type": "markdown",
   "id": "e5d8528b",
   "metadata": {},
   "source": [
    "**1.2 Выведим первые строки каждого набора данных. Изучим общую информацию о каждом датафрейме**"
   ]
  },
  {
   "cell_type": "markdown",
   "id": "4ef51285",
   "metadata": {},
   "source": [
    "Датафрейм о Пользователях (USERS)"
   ]
  },
  {
   "cell_type": "code",
   "execution_count": 3,
   "id": "1fefb5a3",
   "metadata": {},
   "outputs": [
    {
     "data": {
      "text/html": [
       "<div>\n",
       "<style scoped>\n",
       "    .dataframe tbody tr th:only-of-type {\n",
       "        vertical-align: middle;\n",
       "    }\n",
       "\n",
       "    .dataframe tbody tr th {\n",
       "        vertical-align: top;\n",
       "    }\n",
       "\n",
       "    .dataframe thead th {\n",
       "        text-align: right;\n",
       "    }\n",
       "</style>\n",
       "<table border=\"1\" class=\"dataframe\">\n",
       "  <thead>\n",
       "    <tr style=\"text-align: right;\">\n",
       "      <th></th>\n",
       "      <th>user_id</th>\n",
       "      <th>name</th>\n",
       "      <th>age</th>\n",
       "      <th>city</th>\n",
       "      <th>subscription_type</th>\n",
       "    </tr>\n",
       "  </thead>\n",
       "  <tbody>\n",
       "    <tr>\n",
       "      <th>0</th>\n",
       "      <td>1</td>\n",
       "      <td>Кира</td>\n",
       "      <td>22</td>\n",
       "      <td>Тюмень</td>\n",
       "      <td>ultra</td>\n",
       "    </tr>\n",
       "    <tr>\n",
       "      <th>1</th>\n",
       "      <td>2</td>\n",
       "      <td>Станислав</td>\n",
       "      <td>31</td>\n",
       "      <td>Омск</td>\n",
       "      <td>ultra</td>\n",
       "    </tr>\n",
       "    <tr>\n",
       "      <th>2</th>\n",
       "      <td>3</td>\n",
       "      <td>Алексей</td>\n",
       "      <td>20</td>\n",
       "      <td>Москва</td>\n",
       "      <td>ultra</td>\n",
       "    </tr>\n",
       "    <tr>\n",
       "      <th>3</th>\n",
       "      <td>4</td>\n",
       "      <td>Константин</td>\n",
       "      <td>26</td>\n",
       "      <td>Ростов-на-Дону</td>\n",
       "      <td>ultra</td>\n",
       "    </tr>\n",
       "    <tr>\n",
       "      <th>4</th>\n",
       "      <td>5</td>\n",
       "      <td>Адель</td>\n",
       "      <td>28</td>\n",
       "      <td>Омск</td>\n",
       "      <td>ultra</td>\n",
       "    </tr>\n",
       "  </tbody>\n",
       "</table>\n",
       "</div>"
      ],
      "text/plain": [
       "   user_id        name  age            city subscription_type\n",
       "0        1        Кира   22          Тюмень             ultra\n",
       "1        2   Станислав   31            Омск             ultra\n",
       "2        3     Алексей   20          Москва             ultra\n",
       "3        4  Константин   26  Ростов-на-Дону             ultra\n",
       "4        5       Адель   28            Омск             ultra"
      ]
     },
     "execution_count": 3,
     "metadata": {},
     "output_type": "execute_result"
    }
   ],
   "source": [
    "users.head(5)"
   ]
  },
  {
   "cell_type": "code",
   "execution_count": 4,
   "id": "1e8bf9d7",
   "metadata": {},
   "outputs": [
    {
     "name": "stdout",
     "output_type": "stream",
     "text": [
      "<class 'pandas.core.frame.DataFrame'>\n",
      "RangeIndex: 1565 entries, 0 to 1564\n",
      "Data columns (total 5 columns):\n",
      " #   Column             Non-Null Count  Dtype \n",
      "---  ------             --------------  ----- \n",
      " 0   user_id            1565 non-null   int64 \n",
      " 1   name               1565 non-null   object\n",
      " 2   age                1565 non-null   int64 \n",
      " 3   city               1565 non-null   object\n",
      " 4   subscription_type  1565 non-null   object\n",
      "dtypes: int64(2), object(3)\n",
      "memory usage: 61.3+ KB\n"
     ]
    }
   ],
   "source": [
    "users.info()"
   ]
  },
  {
   "cell_type": "code",
   "execution_count": 5,
   "id": "5d546934",
   "metadata": {},
   "outputs": [
    {
     "name": "stdout",
     "output_type": "stream",
     "text": [
      "Объем данных 'users': (1565, 5)\n"
     ]
    }
   ],
   "source": [
    "print(f\"Объем данных 'users': {users.shape}\")"
   ]
  },
  {
   "cell_type": "markdown",
   "id": "983ac038",
   "metadata": {},
   "source": [
    " Датафрейм 'users' содержится 1534 строки и 6 столбцов, файл весит 61,3 кб.  \n",
    " Описание столбцов датафрейма:    \n",
    "**user_id** -\tуникальный идентификатор пользователя  \n",
    "**name**\t- имя пользователя  \n",
    "**age**\t- возраст  \n",
    "**city**\t- город  \n",
    "**subscription_type**\t- тип подписки (free, ultra)    \n",
    "\n",
    "Из названий стоблцов ясно, что здесь собраны данные о пользователях аренды самокатов GoFast.  \n",
    "user_id и age имеют тип данных int64, что означает, что это целочисленные значения.\n",
    "name и city,subscription_typ  имеют тип данных object, что обычно указывает на строки (текстовые данные).\n",
    "В целом тип данных корректен"
   ]
  },
  {
   "cell_type": "markdown",
   "id": "eef617be",
   "metadata": {},
   "source": [
    "Датафрейм о Поездках (RIDES)"
   ]
  },
  {
   "cell_type": "code",
   "execution_count": 6,
   "id": "29e93b63",
   "metadata": {},
   "outputs": [
    {
     "data": {
      "text/html": [
       "<div>\n",
       "<style scoped>\n",
       "    .dataframe tbody tr th:only-of-type {\n",
       "        vertical-align: middle;\n",
       "    }\n",
       "\n",
       "    .dataframe tbody tr th {\n",
       "        vertical-align: top;\n",
       "    }\n",
       "\n",
       "    .dataframe thead th {\n",
       "        text-align: right;\n",
       "    }\n",
       "</style>\n",
       "<table border=\"1\" class=\"dataframe\">\n",
       "  <thead>\n",
       "    <tr style=\"text-align: right;\">\n",
       "      <th></th>\n",
       "      <th>user_id</th>\n",
       "      <th>distance</th>\n",
       "      <th>duration</th>\n",
       "      <th>date</th>\n",
       "    </tr>\n",
       "  </thead>\n",
       "  <tbody>\n",
       "    <tr>\n",
       "      <th>0</th>\n",
       "      <td>1</td>\n",
       "      <td>4409.919140</td>\n",
       "      <td>25.599769</td>\n",
       "      <td>2021-01-01</td>\n",
       "    </tr>\n",
       "    <tr>\n",
       "      <th>1</th>\n",
       "      <td>1</td>\n",
       "      <td>2617.592153</td>\n",
       "      <td>15.816871</td>\n",
       "      <td>2021-01-18</td>\n",
       "    </tr>\n",
       "    <tr>\n",
       "      <th>2</th>\n",
       "      <td>1</td>\n",
       "      <td>754.159807</td>\n",
       "      <td>6.232113</td>\n",
       "      <td>2021-04-20</td>\n",
       "    </tr>\n",
       "    <tr>\n",
       "      <th>3</th>\n",
       "      <td>1</td>\n",
       "      <td>2694.783254</td>\n",
       "      <td>18.511000</td>\n",
       "      <td>2021-08-11</td>\n",
       "    </tr>\n",
       "    <tr>\n",
       "      <th>4</th>\n",
       "      <td>1</td>\n",
       "      <td>4028.687306</td>\n",
       "      <td>26.265803</td>\n",
       "      <td>2021-08-28</td>\n",
       "    </tr>\n",
       "  </tbody>\n",
       "</table>\n",
       "</div>"
      ],
      "text/plain": [
       "   user_id     distance   duration        date\n",
       "0        1  4409.919140  25.599769  2021-01-01\n",
       "1        1  2617.592153  15.816871  2021-01-18\n",
       "2        1   754.159807   6.232113  2021-04-20\n",
       "3        1  2694.783254  18.511000  2021-08-11\n",
       "4        1  4028.687306  26.265803  2021-08-28"
      ]
     },
     "execution_count": 6,
     "metadata": {},
     "output_type": "execute_result"
    }
   ],
   "source": [
    "rides.head(5)"
   ]
  },
  {
   "cell_type": "code",
   "execution_count": 7,
   "id": "bce869f1",
   "metadata": {},
   "outputs": [
    {
     "name": "stdout",
     "output_type": "stream",
     "text": [
      "<class 'pandas.core.frame.DataFrame'>\n",
      "RangeIndex: 18068 entries, 0 to 18067\n",
      "Data columns (total 4 columns):\n",
      " #   Column    Non-Null Count  Dtype  \n",
      "---  ------    --------------  -----  \n",
      " 0   user_id   18068 non-null  int64  \n",
      " 1   distance  18068 non-null  float64\n",
      " 2   duration  18068 non-null  float64\n",
      " 3   date      18068 non-null  object \n",
      "dtypes: float64(2), int64(1), object(1)\n",
      "memory usage: 564.8+ KB\n"
     ]
    }
   ],
   "source": [
    "rides.info()"
   ]
  },
  {
   "cell_type": "code",
   "execution_count": 8,
   "id": "58537300",
   "metadata": {},
   "outputs": [
    {
     "name": "stdout",
     "output_type": "stream",
     "text": [
      "Объем данных 'rides': (18068, 4)\n"
     ]
    }
   ],
   "source": [
    "print(f\"Объем данных 'rides': {rides.shape}\")"
   ]
  },
  {
   "cell_type": "markdown",
   "id": "f560bdbe",
   "metadata": {},
   "source": [
    " Датафрейм содержит 18 068 строк, 5 колонок, файл весит 564,8 кб.  \n",
    " Описание столбцов датафрейма:   \n",
    "**user_id**\t- уникальный идентификатор пользователя  \n",
    "**distance**\t- расстояние, которое пользователь проехал в текущей сессии (в метрах)  \n",
    "**duration** - продолжительность сессии (в минутах) — время с того момента, как пользователь нажал кнопку «Начать поездку» до   момента, как он нажал кнопку «Завершить поездку»  \n",
    "**date**\t- дата совершения поездки    \n",
    "В данном датафрейме указаны уже поездки по датам и пользователям с указанием продолжительности и дистанции.\n",
    "При этом формат дат указан в типе object (в дальнейшем поменяем)    \n",
    "\n",
    "float64 имеют столбцы distance и  duration здесь все верно т.к используется числа с плавающей запятой для точности"
   ]
  },
  {
   "cell_type": "markdown",
   "id": "a21b3a24",
   "metadata": {},
   "source": [
    "Датафрейм Подписок (subscriptions)"
   ]
  },
  {
   "cell_type": "code",
   "execution_count": 9,
   "id": "52c7cc5b",
   "metadata": {},
   "outputs": [
    {
     "data": {
      "text/html": [
       "<div>\n",
       "<style scoped>\n",
       "    .dataframe tbody tr th:only-of-type {\n",
       "        vertical-align: middle;\n",
       "    }\n",
       "\n",
       "    .dataframe tbody tr th {\n",
       "        vertical-align: top;\n",
       "    }\n",
       "\n",
       "    .dataframe thead th {\n",
       "        text-align: right;\n",
       "    }\n",
       "</style>\n",
       "<table border=\"1\" class=\"dataframe\">\n",
       "  <thead>\n",
       "    <tr style=\"text-align: right;\">\n",
       "      <th></th>\n",
       "      <th>subscription_type</th>\n",
       "      <th>minute_price</th>\n",
       "      <th>start_ride_price</th>\n",
       "      <th>subscription_fee</th>\n",
       "    </tr>\n",
       "  </thead>\n",
       "  <tbody>\n",
       "    <tr>\n",
       "      <th>0</th>\n",
       "      <td>free</td>\n",
       "      <td>8</td>\n",
       "      <td>50</td>\n",
       "      <td>0</td>\n",
       "    </tr>\n",
       "    <tr>\n",
       "      <th>1</th>\n",
       "      <td>ultra</td>\n",
       "      <td>6</td>\n",
       "      <td>0</td>\n",
       "      <td>199</td>\n",
       "    </tr>\n",
       "  </tbody>\n",
       "</table>\n",
       "</div>"
      ],
      "text/plain": [
       "  subscription_type  minute_price  start_ride_price  subscription_fee\n",
       "0              free             8                50                 0\n",
       "1             ultra             6                 0               199"
      ]
     },
     "execution_count": 9,
     "metadata": {},
     "output_type": "execute_result"
    }
   ],
   "source": [
    "subscriptions.head(5)"
   ]
  },
  {
   "cell_type": "code",
   "execution_count": 10,
   "id": "5a81570f",
   "metadata": {},
   "outputs": [
    {
     "name": "stdout",
     "output_type": "stream",
     "text": [
      "<class 'pandas.core.frame.DataFrame'>\n",
      "RangeIndex: 2 entries, 0 to 1\n",
      "Data columns (total 4 columns):\n",
      " #   Column             Non-Null Count  Dtype \n",
      "---  ------             --------------  ----- \n",
      " 0   subscription_type  2 non-null      object\n",
      " 1   minute_price       2 non-null      int64 \n",
      " 2   start_ride_price   2 non-null      int64 \n",
      " 3   subscription_fee   2 non-null      int64 \n",
      "dtypes: int64(3), object(1)\n",
      "memory usage: 192.0+ bytes\n"
     ]
    }
   ],
   "source": [
    "subscriptions.info()"
   ]
  },
  {
   "cell_type": "code",
   "execution_count": 11,
   "id": "beab241d",
   "metadata": {},
   "outputs": [
    {
     "name": "stdout",
     "output_type": "stream",
     "text": [
      "Объем данных 'subscriptions': (2, 4)\n"
     ]
    }
   ],
   "source": [
    "print(f\"Объем данных 'subscriptions': {subscriptions.shape}\")"
   ]
  },
  {
   "cell_type": "markdown",
   "id": "9a799930",
   "metadata": {},
   "source": [
    "Датафрейм содержит 2 строки, 4 колонки, файл весит 192 б.  \n",
    "Описание столбцов датафрейма:\n",
    "**subscription_type**\t- тип подписки  \n",
    "**minute_price**\t- стоимость одной минуты поездки по данной подписке  \n",
    "**start_ride_price**\t- стоимость начала поездки  \n",
    "**subscription_fee**\t- стоимость ежемесячного платежа  \n",
    "В данном датфрейме общая инфорамция по условиям подписки."
   ]
  },
  {
   "cell_type": "markdown",
   "id": "b4179f90",
   "metadata": {},
   "source": [
    "#### Шаг 2. Предобработка данных"
   ]
  },
  {
   "cell_type": "markdown",
   "id": "48989fbc",
   "metadata": {},
   "source": [
    "**2.1 Приведем столбец date к типу даты pandas.**  \n",
    "Как указывалось выше в датафрейме rides формат даты указан как object меняем на date."
   ]
  },
  {
   "cell_type": "code",
   "execution_count": 12,
   "id": "03285eca",
   "metadata": {},
   "outputs": [
    {
     "name": "stdout",
     "output_type": "stream",
     "text": [
      "<class 'pandas.core.frame.DataFrame'>\n",
      "RangeIndex: 18068 entries, 0 to 18067\n",
      "Data columns (total 4 columns):\n",
      " #   Column    Non-Null Count  Dtype         \n",
      "---  ------    --------------  -----         \n",
      " 0   user_id   18068 non-null  int64         \n",
      " 1   distance  18068 non-null  float64       \n",
      " 2   duration  18068 non-null  float64       \n",
      " 3   date      18068 non-null  datetime64[ns]\n",
      "dtypes: datetime64[ns](1), float64(2), int64(1)\n",
      "memory usage: 564.8 KB\n"
     ]
    }
   ],
   "source": [
    "rides['date'] = pd.to_datetime(rides['date']) #меняем формат\n",
    "rides.info()"
   ]
  },
  {
   "cell_type": "markdown",
   "id": "ef7b3769",
   "metadata": {},
   "source": [
    "**2.2 Создание нового столбца с номером месяца на основе столбца date.**"
   ]
  },
  {
   "cell_type": "code",
   "execution_count": 13,
   "id": "a1cdbdbf",
   "metadata": {},
   "outputs": [
    {
     "data": {
      "text/html": [
       "<div>\n",
       "<style scoped>\n",
       "    .dataframe tbody tr th:only-of-type {\n",
       "        vertical-align: middle;\n",
       "    }\n",
       "\n",
       "    .dataframe tbody tr th {\n",
       "        vertical-align: top;\n",
       "    }\n",
       "\n",
       "    .dataframe thead th {\n",
       "        text-align: right;\n",
       "    }\n",
       "</style>\n",
       "<table border=\"1\" class=\"dataframe\">\n",
       "  <thead>\n",
       "    <tr style=\"text-align: right;\">\n",
       "      <th></th>\n",
       "      <th>user_id</th>\n",
       "      <th>distance</th>\n",
       "      <th>duration</th>\n",
       "      <th>date</th>\n",
       "      <th>month</th>\n",
       "    </tr>\n",
       "  </thead>\n",
       "  <tbody>\n",
       "    <tr>\n",
       "      <th>0</th>\n",
       "      <td>1</td>\n",
       "      <td>4409.919140</td>\n",
       "      <td>25.599769</td>\n",
       "      <td>2021-01-01</td>\n",
       "      <td>1</td>\n",
       "    </tr>\n",
       "    <tr>\n",
       "      <th>1</th>\n",
       "      <td>1</td>\n",
       "      <td>2617.592153</td>\n",
       "      <td>15.816871</td>\n",
       "      <td>2021-01-18</td>\n",
       "      <td>1</td>\n",
       "    </tr>\n",
       "    <tr>\n",
       "      <th>2</th>\n",
       "      <td>1</td>\n",
       "      <td>754.159807</td>\n",
       "      <td>6.232113</td>\n",
       "      <td>2021-04-20</td>\n",
       "      <td>4</td>\n",
       "    </tr>\n",
       "    <tr>\n",
       "      <th>3</th>\n",
       "      <td>1</td>\n",
       "      <td>2694.783254</td>\n",
       "      <td>18.511000</td>\n",
       "      <td>2021-08-11</td>\n",
       "      <td>8</td>\n",
       "    </tr>\n",
       "    <tr>\n",
       "      <th>4</th>\n",
       "      <td>1</td>\n",
       "      <td>4028.687306</td>\n",
       "      <td>26.265803</td>\n",
       "      <td>2021-08-28</td>\n",
       "      <td>8</td>\n",
       "    </tr>\n",
       "  </tbody>\n",
       "</table>\n",
       "</div>"
      ],
      "text/plain": [
       "   user_id     distance   duration       date  month\n",
       "0        1  4409.919140  25.599769 2021-01-01      1\n",
       "1        1  2617.592153  15.816871 2021-01-18      1\n",
       "2        1   754.159807   6.232113 2021-04-20      4\n",
       "3        1  2694.783254  18.511000 2021-08-11      8\n",
       "4        1  4028.687306  26.265803 2021-08-28      8"
      ]
     },
     "execution_count": 13,
     "metadata": {},
     "output_type": "execute_result"
    }
   ],
   "source": [
    "rides['month']  =  rides['date'].dt.month\n",
    "rides.head(5) #убедились что номер месяца появился"
   ]
  },
  {
   "cell_type": "code",
   "execution_count": 14,
   "id": "fc6d4f5e",
   "metadata": {},
   "outputs": [
    {
     "name": "stdout",
     "output_type": "stream",
     "text": [
      "Минимальная дата: 2021-01-01 00:00:00\n",
      "Максимальная дата: 2021-12-30 00:00:00\n"
     ]
    }
   ],
   "source": [
    "min_date = rides['date'].min()\n",
    "max_date = rides['date'].max()\n",
    "print(f\"Минимальная дата: {min_date}\")\n",
    "print(f\"Максимальная дата: {max_date}\")"
   ]
  },
  {
   "cell_type": "markdown",
   "id": "df7f5b41",
   "metadata": {},
   "source": [
    "Проверили за какой промежуток у нас ессть данные, получается за весь  2021 год."
   ]
  },
  {
   "cell_type": "markdown",
   "id": "218ecedb",
   "metadata": {},
   "source": [
    "**2.3 Проверка наличия пропущенных значений и дубликатов в датафреймах.**   \n",
    "В случае присуствия обработаем их."
   ]
  },
  {
   "cell_type": "code",
   "execution_count": 15,
   "id": "96c0c43d",
   "metadata": {},
   "outputs": [
    {
     "data": {
      "text/plain": [
       "user_id              0\n",
       "name                 0\n",
       "age                  0\n",
       "city                 0\n",
       "subscription_type    0\n",
       "dtype: int64"
      ]
     },
     "execution_count": 15,
     "metadata": {},
     "output_type": "execute_result"
    }
   ],
   "source": [
    "users.isna().sum() #проверяем данные на пропуски users"
   ]
  },
  {
   "cell_type": "code",
   "execution_count": 16,
   "id": "6627c1f9",
   "metadata": {},
   "outputs": [
    {
     "data": {
      "text/plain": [
       "user_id     0\n",
       "distance    0\n",
       "duration    0\n",
       "date        0\n",
       "month       0\n",
       "dtype: int64"
      ]
     },
     "execution_count": 16,
     "metadata": {},
     "output_type": "execute_result"
    }
   ],
   "source": [
    "rides.isna().sum() #проверяем данные на пропуски rides"
   ]
  },
  {
   "cell_type": "code",
   "execution_count": 17,
   "id": "98e318c9",
   "metadata": {},
   "outputs": [
    {
     "data": {
      "text/plain": [
       "subscription_type    0\n",
       "minute_price         0\n",
       "start_ride_price     0\n",
       "subscription_fee     0\n",
       "dtype: int64"
      ]
     },
     "execution_count": 17,
     "metadata": {},
     "output_type": "execute_result"
    }
   ],
   "source": [
    "subscriptions.isna().sum() #проверяем данные на пропуски subscriptions"
   ]
  },
  {
   "cell_type": "markdown",
   "id": "9e99271d",
   "metadata": {},
   "source": [
    "Пустых значений в трех датафреймах не было обнаружено, теперь проверим дубликаты."
   ]
  },
  {
   "cell_type": "code",
   "execution_count": 18,
   "id": "126ad4b5",
   "metadata": {},
   "outputs": [
    {
     "name": "stdout",
     "output_type": "stream",
     "text": [
      "Количество дубликатов в датафрейме: 31\n",
      "Количество дубликатов в датафрейме после удаления дубликатов: 0\n"
     ]
    }
   ],
   "source": [
    "# кол-во дубликатов во всем датафрейме \n",
    "users_duplicates = users.duplicated().sum()\n",
    "print(\"Количество дубликатов в датафрейме:\", users_duplicates)\n",
    "users = users.drop_duplicates() #удаляем дубликаты\n",
    "users_duplicates = users.duplicated().sum()\n",
    "print(\"Количество дубликатов в датафрейме после удаления дубликатов:\", users_duplicates)"
   ]
  },
  {
   "cell_type": "code",
   "execution_count": 19,
   "id": "57396381",
   "metadata": {},
   "outputs": [
    {
     "name": "stdout",
     "output_type": "stream",
     "text": [
      "Количество дубликатов в датафрейме: 0\n"
     ]
    }
   ],
   "source": [
    "# кол-во дубликатов во всем датафрейме \n",
    "rides_duplicates = rides.duplicated().sum()\n",
    "print(\"Количество дубликатов в датафрейме:\", rides_duplicates)"
   ]
  },
  {
   "cell_type": "code",
   "execution_count": 20,
   "id": "747c4ec7",
   "metadata": {},
   "outputs": [
    {
     "name": "stdout",
     "output_type": "stream",
     "text": [
      "Количество дубликатов в датафрейме: 0\n"
     ]
    }
   ],
   "source": [
    "# кол-во дубликатов во всем датафрейме \n",
    "subscriptions_duplicates = rides.duplicated().sum()\n",
    "print(\"Количество дубликатов в датафрейме:\", subscriptions_duplicates)"
   ]
  },
  {
   "cell_type": "markdown",
   "id": "1ab9a351",
   "metadata": {},
   "source": [
    "Только в датафрейме users (пользователи) были дубликаты в кол-ве 31 строки которые были удалены.В остальных датафреймах дубликатов не было."
   ]
  },
  {
   "cell_type": "markdown",
   "id": "53208630",
   "metadata": {},
   "source": [
    "#### Шаг 3. Исследовательский анализ данных"
   ]
  },
  {
   "cell_type": "markdown",
   "id": "74c0125f",
   "metadata": {},
   "source": [
    "В данном шаге опишем и визуализируем общую информацию о пользователях и поездках:  \n",
    "3.1 частота встречаемости городов;  \n",
    "3.2 соотношение пользователей с подпиской и без подписки;  \n",
    "3.3 возраст пользователей;  \n",
    "3.4 расстояние, которое пользователь преодолел за одну поездку;  \n",
    "3.5 продолжительность поездок.  "
   ]
  },
  {
   "cell_type": "markdown",
   "id": "2c8f17b3",
   "metadata": {},
   "source": [
    "**3.1 Частота встречаемости городов**"
   ]
  },
  {
   "cell_type": "code",
   "execution_count": 21,
   "id": "85e32243",
   "metadata": {},
   "outputs": [
    {
     "name": "stdout",
     "output_type": "stream",
     "text": [
      "Частота встречаемости городов:\n"
     ]
    },
    {
     "data": {
      "text/plain": [
       "Пятигорск         219\n",
       "Екатеринбург      204\n",
       "Ростов-на-Дону    198\n",
       "Краснодар         193\n",
       "Сочи              189\n",
       "Омск              183\n",
       "Тюмень            180\n",
       "Москва            168\n",
       "Name: city, dtype: int64"
      ]
     },
     "execution_count": 21,
     "metadata": {},
     "output_type": "execute_result"
    }
   ],
   "source": [
    "city_counts =  users['city'].value_counts(ascending=False)\n",
    "print('Частота встречаемости городов:')\n",
    "city_counts"
   ]
  },
  {
   "cell_type": "code",
   "execution_count": 22,
   "id": "475a9aed",
   "metadata": {},
   "outputs": [
    {
     "data": {
      "image/png": "[encoded data removed]",
      "text/plain": [
       "<Figure size 432x288 with 1 Axes>"
      ]
     },
     "metadata": {
      "needs_background": "light"
     },
     "output_type": "display_data"
    }
   ],
   "source": [
    "city_counts_sorted = city_counts.sort_values(ascending=True)\n",
    "plt.barh(city_counts_sorted.index,city_counts_sorted.values)\n",
    "plt.xlabel('Город')\n",
    "plt.ylabel('Частота встречаемости')\n",
    "plt.title('Частота встречаемости городов')\n",
    "plt.show()"
   ]
  },
  {
   "cell_type": "markdown",
   "id": "69162802",
   "metadata": {},
   "source": [
    "Исходя из таблицы и графика самый часто встречаемый город Пятигорск -219, затем Екатеринбург - 204 и Ростов-на-Дону -198, реже всего встречается Москва -168."
   ]
  },
  {
   "cell_type": "markdown",
   "id": "4bd7f075",
   "metadata": {},
   "source": [
    "**3.2 Соотношение пользователей с подпиской и без подписки**"
   ]
  },
  {
   "cell_type": "code",
   "execution_count": 23,
   "id": "bf11a8a7",
   "metadata": {},
   "outputs": [
    {
     "name": "stdout",
     "output_type": "stream",
     "text": [
      "free     835\n",
      "ultra    699\n",
      "Name: subscription_type, dtype: int64\n"
     ]
    },
    {
     "data": {
      "image/png": "[encoded data removed]",
      "text/plain": [
       "<Figure size 432x432 with 1 Axes>"
      ]
     },
     "metadata": {},
     "output_type": "display_data"
    }
   ],
   "source": [
    "subscription_counts = users['subscription_type'].value_counts() #кол-во пользователей с подпиской и без\n",
    "ratio_with_subscription = subscription_counts['ultra'] / len(users)#делим кол-во пользователей с подпиской/на всех\n",
    "ratio_without_subscription = subscription_counts['free'] / len(users)#делим кол-во пользователей без подписки/на всех \n",
    "print(subscription_counts)\n",
    "#print(\"Пользователей с подпиской: {:.2%}\".format(ratio_with_subscription))\n",
    "#print(\"Пользователей без подписки: {:.2%}\".format(ratio_without_subscription))\n",
    "users['subscription_type'].value_counts().plot(kind='pie', figsize=(6, 6), autopct='%1.1f%%', ylabel=None)\n",
    "plt.title('Соотношение пользователей с подпиской и без подписки')\n",
    "plt.show()"
   ]
  },
  {
   "cell_type": "markdown",
   "id": "1514adc8",
   "metadata": {},
   "source": [
    "После построения круговой диаграммы можно сделать вывод, что пользователей **без подписки** больше, составляет **54.43%**. \n",
    "\n",
    "**С подпиской** пользователей  **45.47%**, разрыв составляет только 8.96% между показателями. "
   ]
  },
  {
   "cell_type": "markdown",
   "id": "05851adb",
   "metadata": {},
   "source": [
    "**3.3 Возраст пользователей**"
   ]
  },
  {
   "cell_type": "code",
   "execution_count": 24,
   "id": "79dface4",
   "metadata": {},
   "outputs": [
    {
     "data": {
      "text/plain": [
       "count    1534.000000\n",
       "mean       24.903520\n",
       "std         4.572367\n",
       "min        12.000000\n",
       "25%        22.000000\n",
       "50%        25.000000\n",
       "75%        28.000000\n",
       "max        43.000000\n",
       "Name: age, dtype: float64"
      ]
     },
     "execution_count": 24,
     "metadata": {},
     "output_type": "execute_result"
    }
   ],
   "source": [
    "users['age'].describe()"
   ]
  },
  {
   "cell_type": "markdown",
   "id": "0c72cb73",
   "metadata": {},
   "source": [
    "Узнаем, что средний возраст составляет 24,9, всего  1534 значений возраста, при этом минимальный возраст 12 лет, максимальный 43 года.\n",
    "Можем как дополнение, разделить возраста на группы:0-18, 19-25, 26-35, 35-45, 45+. Чтобы было легче анализировать данные о возрасте и построим столбчатую диаграмму."
   ]
  },
  {
   "cell_type": "code",
   "execution_count": 25,
   "id": "2aa671ac",
   "metadata": {},
   "outputs": [
    {
     "name": "stdout",
     "output_type": "stream",
     "text": [
      "Частота встречаемости измененных возрастных групп:\n",
      "26-35    790\n",
      "19-25    637\n",
      "0-18      79\n",
      "35-45     28\n",
      "45+        0\n",
      "Name: age_group, dtype: int64\n"
     ]
    },
    {
     "data": {
      "image/png": "[encoded data removed]",
      "text/plain": [
       "<Figure size 432x288 with 1 Axes>"
      ]
     },
     "metadata": {
      "needs_background": "light"
     },
     "output_type": "display_data"
    }
   ],
   "source": [
    "#создаем возрастные группы\n",
    "bins = [0, 18, 25, 35, 45, float('inf')]\n",
    "labels = ['0-18', '19-25', '26-35', '35-45', '45+']\n",
    "\n",
    "#добавление столбца с  возрастными группами в датафрейм\n",
    "users['age_group'] = pd.cut(users['age'], bins=bins, labels=labels, right=False)\n",
    "\n",
    "#подсчет частоты встречаемости измененных возрастных групп\n",
    "age_groups_counts = users['age_group'].value_counts()\n",
    "print(\"Частота встречаемости измененных возрастных групп:\")\n",
    "print(age_groups_counts)\n",
    "\n",
    "#cтроим стоблчатый график\n",
    "plt.bar(age_groups_counts.index,age_groups_counts.values)\n",
    "plt.xlabel('Возрастные группы')\n",
    "plt.ylabel('Частота встречаемости')\n",
    "plt.title('Возраст пользователей')\n",
    "plt.show()"
   ]
  },
  {
   "cell_type": "code",
   "execution_count": 26,
   "id": "0ff992ab",
   "metadata": {},
   "outputs": [
    {
     "data": {
      "image/png": "[encoded data removed]",
      "text/plain": [
       "<Figure size 432x288 with 1 Axes>"
      ]
     },
     "metadata": {
      "needs_background": "light"
     },
     "output_type": "display_data"
    }
   ],
   "source": [
    "# cоздаем гистограмму\n",
    "plt.hist(users['age'], bins=12,edgecolor='black')\n",
    "\n",
    "# выводим средний возраст\n",
    "plt.axvline(users['age'].mean(), color='red', linestyle='dashed', linewidth=2, label='Средний возраст')\n",
    "plt.legend()\n",
    "\n",
    "plt.xlabel('Возраст')\n",
    "plt.ylabel('Частота')\n",
    "plt.title('Распределение возрастов пользователей')\n",
    "plt.show()"
   ]
  },
  {
   "cell_type": "markdown",
   "id": "28f62258",
   "metadata": {},
   "source": [
    "На графике видно распределение по возрастам,левый хвост где возраст от 0 до 25 лет  больше насыщен данными, чем правый (где возраст стремится к 40 годам).   \n",
    "В целом это и логично на самокатах как правило пользуется более молодое поколение.А так же виден сильный вброс на уровне примерно  23 лет."
   ]
  },
  {
   "cell_type": "markdown",
   "id": "b81ed721",
   "metadata": {},
   "source": [
    "Узнаем, что средний возраст составляет 24,9, всего 1534 значений возраста.  Самый часто встречающийся возраст 25 лет таких пользователей аж 145,  затем 132 пользователя с возрастом 24 года.При этом минимальный возраст 12 лет, максимальный 43 года.   \n",
    "На графике распределения по возрастам видно, что левый хвост где возраст от 0 до 25 лет больше насыщен данными, чем правый (где возраст стремится к 40 годам).В целом это и логично на самокатах как правило пользуется более молодое поколение.А так же виден сильный вброс на уровне примерно 23 лет.  \n",
    " Как дополнение, разделили возраста на группы:0-18, 19-25, 26-35, 35-45, 45+. Наиболее больше пользователей в группе 26-35 их 790 пользователей. И только после этого идет возрастная группа 19-25 лет с кол-вом 637 пользователя."
   ]
  },
  {
   "cell_type": "markdown",
   "id": "880e643b",
   "metadata": {},
   "source": [
    "**3.4 Расстояние, которое пользователь преодолел за одну поездку**"
   ]
  },
  {
   "cell_type": "code",
   "execution_count": 27,
   "id": "67d602ac",
   "metadata": {},
   "outputs": [
    {
     "data": {
      "text/html": [
       "<div>\n",
       "<style scoped>\n",
       "    .dataframe tbody tr th:only-of-type {\n",
       "        vertical-align: middle;\n",
       "    }\n",
       "\n",
       "    .dataframe tbody tr th {\n",
       "        vertical-align: top;\n",
       "    }\n",
       "\n",
       "    .dataframe thead th {\n",
       "        text-align: right;\n",
       "    }\n",
       "</style>\n",
       "<table border=\"1\" class=\"dataframe\">\n",
       "  <thead>\n",
       "    <tr style=\"text-align: right;\">\n",
       "      <th></th>\n",
       "      <th>user_id</th>\n",
       "      <th>distance</th>\n",
       "      <th>duration</th>\n",
       "      <th>date</th>\n",
       "      <th>month</th>\n",
       "    </tr>\n",
       "  </thead>\n",
       "  <tbody>\n",
       "    <tr>\n",
       "      <th>0</th>\n",
       "      <td>1</td>\n",
       "      <td>4409.919140</td>\n",
       "      <td>25.599769</td>\n",
       "      <td>2021-01-01</td>\n",
       "      <td>1</td>\n",
       "    </tr>\n",
       "    <tr>\n",
       "      <th>1</th>\n",
       "      <td>1</td>\n",
       "      <td>2617.592153</td>\n",
       "      <td>15.816871</td>\n",
       "      <td>2021-01-18</td>\n",
       "      <td>1</td>\n",
       "    </tr>\n",
       "    <tr>\n",
       "      <th>2</th>\n",
       "      <td>1</td>\n",
       "      <td>754.159807</td>\n",
       "      <td>6.232113</td>\n",
       "      <td>2021-04-20</td>\n",
       "      <td>4</td>\n",
       "    </tr>\n",
       "    <tr>\n",
       "      <th>3</th>\n",
       "      <td>1</td>\n",
       "      <td>2694.783254</td>\n",
       "      <td>18.511000</td>\n",
       "      <td>2021-08-11</td>\n",
       "      <td>8</td>\n",
       "    </tr>\n",
       "    <tr>\n",
       "      <th>4</th>\n",
       "      <td>1</td>\n",
       "      <td>4028.687306</td>\n",
       "      <td>26.265803</td>\n",
       "      <td>2021-08-28</td>\n",
       "      <td>8</td>\n",
       "    </tr>\n",
       "  </tbody>\n",
       "</table>\n",
       "</div>"
      ],
      "text/plain": [
       "   user_id     distance   duration       date  month\n",
       "0        1  4409.919140  25.599769 2021-01-01      1\n",
       "1        1  2617.592153  15.816871 2021-01-18      1\n",
       "2        1   754.159807   6.232113 2021-04-20      4\n",
       "3        1  2694.783254  18.511000 2021-08-11      8\n",
       "4        1  4028.687306  26.265803 2021-08-28      8"
      ]
     },
     "execution_count": 27,
     "metadata": {},
     "output_type": "execute_result"
    }
   ],
   "source": [
    "rides.head(5)"
   ]
  },
  {
   "cell_type": "markdown",
   "id": "9697ad4b",
   "metadata": {},
   "source": [
    "Для начала вывели 5 строк таблицы чтобы понять какие данные у нас есть. Исходя из таблицы по столбцу distance  видим, что данные в что данные метрах.\n",
    "Сгруппируем данные и выведем среднее по user id"
   ]
  },
  {
   "cell_type": "code",
   "execution_count": 28,
   "id": "104b70e3",
   "metadata": {},
   "outputs": [
    {
     "name": "stdout",
     "output_type": "stream",
     "text": [
      "user_id\n",
      "1309    4.287519\n",
      "850     4.004838\n",
      "644     3.939773\n",
      "465     3.917559\n",
      "381     3.905038\n",
      "          ...   \n",
      "883     2.094475\n",
      "1011    2.065920\n",
      "1433    1.991245\n",
      "1495    1.767761\n",
      "908     1.630788\n",
      "Name: distance, Length: 1534, dtype: float64\n"
     ]
    }
   ],
   "source": [
    "average_distance_per_ride = rides.groupby('user_id')['distance'].mean().sort_values(ascending=False)\n",
    "print(average_distance_per_ride/1000) #перевели в км данные"
   ]
  },
  {
   "cell_type": "code",
   "execution_count": 29,
   "id": "a1abd731",
   "metadata": {},
   "outputs": [
    {
     "name": "stdout",
     "output_type": "stream",
     "text": [
      "average_distance 3.0706599756818815\n",
      "min_distance 0.000855682925681208\n",
      "max_distance 7.211007744598519\n"
     ]
    }
   ],
   "source": [
    "#среднее, мин, макс без разбивки на пользователей\n",
    "average_distance = rides['distance'].mean()\n",
    "min_distance = rides['distance'].min()\n",
    "max_distance = rides['distance'].max()\n",
    "\n",
    "\n",
    "print('average_distance',average_distance/1000)\n",
    "print('min_distance',min_distance/1000)\n",
    "print('max_distance',max_distance/1000)"
   ]
  },
  {
   "cell_type": "markdown",
   "id": "3a794d07",
   "metadata": {},
   "source": [
    "После получения таблицы, видим что пользователь 1309 совершает в среднем самые длинные поездки в 4,2 км, при этом самая минимальная поездка составляет 1,6 км у пользователя 908. На уровне всех пользователей в среднем расстрояние занимает 3,07км, максимальная поездка составила 7,2 км."
   ]
  },
  {
   "cell_type": "code",
   "execution_count": 30,
   "id": "a8a25a96",
   "metadata": {},
   "outputs": [
    {
     "data": {
      "image/png": "[encoded data removed]",
      "text/plain": [
       "<Figure size 432x288 with 1 Axes>"
      ]
     },
     "metadata": {
      "needs_background": "light"
     },
     "output_type": "display_data"
    }
   ],
   "source": [
    "# cоздаем гистограмму\n",
    "km_distance = rides['distance'] / 1000 #переведем в км\n",
    "plt.hist(km_distance, bins=25,edgecolor='black')\n",
    "\n",
    "# выводим среднее расстояние\n",
    "plt.axvline(km_distance.mean(), color='red', linestyle='dashed', linewidth=2, label='Среднее расстояние поездки')\n",
    "plt.legend()\n",
    "\n",
    "plt.xlabel('Расстояние')\n",
    "plt.ylabel('Частота')\n",
    "plt.title('Распределение поездок пользователей по расстоянию')\n",
    "plt.show()"
   ]
  },
  {
   "cell_type": "markdown",
   "id": "8da7ba71",
   "metadata": {},
   "source": [
    "Как и получили выше средняя продолжительность поездок составляет около 3,07 км, исходя из графика видим, что правый хвост по частоте распредлен равномерно к 7 км, в отличии от левой части хвоста имеется пик около 1 км, затем  идут провалы и резкий скачок к 2 км и по сравнению с правым хвост набор идет не такой равномерный "
   ]
  },
  {
   "cell_type": "markdown",
   "id": "31a95cfd",
   "metadata": {},
   "source": [
    "**3.5 Продолжительность поездок**"
   ]
  },
  {
   "cell_type": "markdown",
   "id": "42dc8eb8",
   "metadata": {},
   "source": [
    "В данном случае поступим так же, высчитаем среднее по продолжительности поездок по каждому пользователю."
   ]
  },
  {
   "cell_type": "code",
   "execution_count": 31,
   "id": "fc612605",
   "metadata": {},
   "outputs": [
    {
     "data": {
      "text/plain": [
       "user_id\n",
       "657     26.136000\n",
       "643     25.839621\n",
       "354     25.661979\n",
       "522     25.377577\n",
       "126     25.364371\n",
       "          ...    \n",
       "801     12.857021\n",
       "1256    12.818559\n",
       "1243    12.119112\n",
       "73      11.385922\n",
       "908     11.163431\n",
       "Name: duration, Length: 1534, dtype: float64"
      ]
     },
     "execution_count": 31,
     "metadata": {},
     "output_type": "execute_result"
    }
   ],
   "source": [
    "average_duration_per_ride = rides.groupby('user_id')['duration'].mean().sort_values(ascending=False)\n",
    "average_duration_per_ride"
   ]
  },
  {
   "cell_type": "code",
   "execution_count": 32,
   "id": "8f243aeb",
   "metadata": {},
   "outputs": [
    {
     "name": "stdout",
     "output_type": "stream",
     "text": [
      "average_duration 17.80501119798444\n",
      "max_duration 40.82396261922424\n",
      "min_duration 0.5\n"
     ]
    }
   ],
   "source": [
    "average_duration = rides['duration'].mean()\n",
    "max_duration = rides['duration'].max()\n",
    "min_duration = rides['duration'].min()\n",
    "\n",
    "print('average_duration',average_duration)\n",
    "print('max_duration',max_duration)\n",
    "print('min_duration',min_duration)"
   ]
  },
  {
   "cell_type": "markdown",
   "id": "a3fdb5f8",
   "metadata": {},
   "source": [
    "Пользователь 657 тратит в среднем максимальное кол-во времени и составляет поездка  26,1 минут, а вот пользователь 908 затрачивает в среднем на поездку 11 минут. При этом среднее продолжительность времени поездок составляет 17 минут, максимальное время составляло 40 минут, а вот минимальное 30 секунд"
   ]
  },
  {
   "cell_type": "code",
   "execution_count": 33,
   "id": "afb74435",
   "metadata": {},
   "outputs": [
    {
     "data": {
      "image/png": "[encoded data removed]",
      "text/plain": [
       "<Figure size 432x288 with 1 Axes>"
      ]
     },
     "metadata": {
      "needs_background": "light"
     },
     "output_type": "display_data"
    }
   ],
   "source": [
    "# cоздаем гистограмму\n",
    "min_duration = rides['duration'] \n",
    "plt.hist(min_duration, bins=15,edgecolor='black')\n",
    "\n",
    "# выводим средний возраст\n",
    "plt.axvline(min_duration.mean(), color='red', linestyle='dashed', linewidth=2, label='Среднее расстояние поездки')\n",
    "plt.legend()\n",
    "\n",
    "plt.xlabel('Длительность')\n",
    "plt.ylabel('Частота')\n",
    "plt.title('Распределение поездок пользователей по длительности')\n",
    "plt.show()\n"
   ]
  },
  {
   "cell_type": "markdown",
   "id": "103a4df0",
   "metadata": {},
   "source": [
    "В случае длительности поездки распределены более равномерно с обеих сторон, относительно предыдущих измерений как возраст и расстояние поездок. Видим, что поездки по длительности не превышают 40 минут что илогично на такие продолжительно длинные поездки наверно лучше пользоваться общественным транспортом. Но у нас есть поездки которые меньше  500 метров. Расмотрим это дальше"
   ]
  },
  {
   "cell_type": "markdown",
   "id": "0e9f59ea",
   "metadata": {},
   "source": [
    "#### Шаг 4. Объединение данных"
   ]
  },
  {
   "cell_type": "markdown",
   "id": "b499d865",
   "metadata": {},
   "source": [
    "**4.1 Объедините данные о пользователях, поездках и подписках в один датафрейм.**   \n",
    "Для этого воспользуйтесь методом merge()"
   ]
  },
  {
   "cell_type": "code",
   "execution_count": 34,
   "id": "4e0f067a",
   "metadata": {},
   "outputs": [
    {
     "data": {
      "text/html": [
       "<div>\n",
       "<style scoped>\n",
       "    .dataframe tbody tr th:only-of-type {\n",
       "        vertical-align: middle;\n",
       "    }\n",
       "\n",
       "    .dataframe tbody tr th {\n",
       "        vertical-align: top;\n",
       "    }\n",
       "\n",
       "    .dataframe thead th {\n",
       "        text-align: right;\n",
       "    }\n",
       "</style>\n",
       "<table border=\"1\" class=\"dataframe\">\n",
       "  <thead>\n",
       "    <tr style=\"text-align: right;\">\n",
       "      <th></th>\n",
       "      <th>user_id</th>\n",
       "      <th>distance</th>\n",
       "      <th>duration</th>\n",
       "      <th>date</th>\n",
       "      <th>month</th>\n",
       "      <th>name</th>\n",
       "      <th>age</th>\n",
       "      <th>city</th>\n",
       "      <th>subscription_type</th>\n",
       "      <th>age_group</th>\n",
       "      <th>minute_price</th>\n",
       "      <th>start_ride_price</th>\n",
       "      <th>subscription_fee</th>\n",
       "    </tr>\n",
       "  </thead>\n",
       "  <tbody>\n",
       "    <tr>\n",
       "      <th>0</th>\n",
       "      <td>1</td>\n",
       "      <td>4409.919140</td>\n",
       "      <td>25.599769</td>\n",
       "      <td>2021-01-01</td>\n",
       "      <td>1</td>\n",
       "      <td>Кира</td>\n",
       "      <td>22</td>\n",
       "      <td>Тюмень</td>\n",
       "      <td>ultra</td>\n",
       "      <td>19-25</td>\n",
       "      <td>6</td>\n",
       "      <td>0</td>\n",
       "      <td>199</td>\n",
       "    </tr>\n",
       "    <tr>\n",
       "      <th>1</th>\n",
       "      <td>1</td>\n",
       "      <td>2617.592153</td>\n",
       "      <td>15.816871</td>\n",
       "      <td>2021-01-18</td>\n",
       "      <td>1</td>\n",
       "      <td>Кира</td>\n",
       "      <td>22</td>\n",
       "      <td>Тюмень</td>\n",
       "      <td>ultra</td>\n",
       "      <td>19-25</td>\n",
       "      <td>6</td>\n",
       "      <td>0</td>\n",
       "      <td>199</td>\n",
       "    </tr>\n",
       "    <tr>\n",
       "      <th>2</th>\n",
       "      <td>1</td>\n",
       "      <td>754.159807</td>\n",
       "      <td>6.232113</td>\n",
       "      <td>2021-04-20</td>\n",
       "      <td>4</td>\n",
       "      <td>Кира</td>\n",
       "      <td>22</td>\n",
       "      <td>Тюмень</td>\n",
       "      <td>ultra</td>\n",
       "      <td>19-25</td>\n",
       "      <td>6</td>\n",
       "      <td>0</td>\n",
       "      <td>199</td>\n",
       "    </tr>\n",
       "    <tr>\n",
       "      <th>3</th>\n",
       "      <td>1</td>\n",
       "      <td>2694.783254</td>\n",
       "      <td>18.511000</td>\n",
       "      <td>2021-08-11</td>\n",
       "      <td>8</td>\n",
       "      <td>Кира</td>\n",
       "      <td>22</td>\n",
       "      <td>Тюмень</td>\n",
       "      <td>ultra</td>\n",
       "      <td>19-25</td>\n",
       "      <td>6</td>\n",
       "      <td>0</td>\n",
       "      <td>199</td>\n",
       "    </tr>\n",
       "    <tr>\n",
       "      <th>4</th>\n",
       "      <td>1</td>\n",
       "      <td>4028.687306</td>\n",
       "      <td>26.265803</td>\n",
       "      <td>2021-08-28</td>\n",
       "      <td>8</td>\n",
       "      <td>Кира</td>\n",
       "      <td>22</td>\n",
       "      <td>Тюмень</td>\n",
       "      <td>ultra</td>\n",
       "      <td>19-25</td>\n",
       "      <td>6</td>\n",
       "      <td>0</td>\n",
       "      <td>199</td>\n",
       "    </tr>\n",
       "    <tr>\n",
       "      <th>5</th>\n",
       "      <td>1</td>\n",
       "      <td>2770.890808</td>\n",
       "      <td>16.650138</td>\n",
       "      <td>2021-10-09</td>\n",
       "      <td>10</td>\n",
       "      <td>Кира</td>\n",
       "      <td>22</td>\n",
       "      <td>Тюмень</td>\n",
       "      <td>ultra</td>\n",
       "      <td>19-25</td>\n",
       "      <td>6</td>\n",
       "      <td>0</td>\n",
       "      <td>199</td>\n",
       "    </tr>\n",
       "    <tr>\n",
       "      <th>6</th>\n",
       "      <td>1</td>\n",
       "      <td>3039.020292</td>\n",
       "      <td>14.927879</td>\n",
       "      <td>2021-10-19</td>\n",
       "      <td>10</td>\n",
       "      <td>Кира</td>\n",
       "      <td>22</td>\n",
       "      <td>Тюмень</td>\n",
       "      <td>ultra</td>\n",
       "      <td>19-25</td>\n",
       "      <td>6</td>\n",
       "      <td>0</td>\n",
       "      <td>199</td>\n",
       "    </tr>\n",
       "    <tr>\n",
       "      <th>7</th>\n",
       "      <td>1</td>\n",
       "      <td>2842.118050</td>\n",
       "      <td>23.117468</td>\n",
       "      <td>2021-11-06</td>\n",
       "      <td>11</td>\n",
       "      <td>Кира</td>\n",
       "      <td>22</td>\n",
       "      <td>Тюмень</td>\n",
       "      <td>ultra</td>\n",
       "      <td>19-25</td>\n",
       "      <td>6</td>\n",
       "      <td>0</td>\n",
       "      <td>199</td>\n",
       "    </tr>\n",
       "    <tr>\n",
       "      <th>8</th>\n",
       "      <td>1</td>\n",
       "      <td>3412.690668</td>\n",
       "      <td>15.238072</td>\n",
       "      <td>2021-11-14</td>\n",
       "      <td>11</td>\n",
       "      <td>Кира</td>\n",
       "      <td>22</td>\n",
       "      <td>Тюмень</td>\n",
       "      <td>ultra</td>\n",
       "      <td>19-25</td>\n",
       "      <td>6</td>\n",
       "      <td>0</td>\n",
       "      <td>199</td>\n",
       "    </tr>\n",
       "    <tr>\n",
       "      <th>9</th>\n",
       "      <td>1</td>\n",
       "      <td>748.690645</td>\n",
       "      <td>15.041884</td>\n",
       "      <td>2021-11-22</td>\n",
       "      <td>11</td>\n",
       "      <td>Кира</td>\n",
       "      <td>22</td>\n",
       "      <td>Тюмень</td>\n",
       "      <td>ultra</td>\n",
       "      <td>19-25</td>\n",
       "      <td>6</td>\n",
       "      <td>0</td>\n",
       "      <td>199</td>\n",
       "    </tr>\n",
       "  </tbody>\n",
       "</table>\n",
       "</div>"
      ],
      "text/plain": [
       "   user_id     distance   duration       date  month  name  age    city  \\\n",
       "0        1  4409.919140  25.599769 2021-01-01      1  Кира   22  Тюмень   \n",
       "1        1  2617.592153  15.816871 2021-01-18      1  Кира   22  Тюмень   \n",
       "2        1   754.159807   6.232113 2021-04-20      4  Кира   22  Тюмень   \n",
       "3        1  2694.783254  18.511000 2021-08-11      8  Кира   22  Тюмень   \n",
       "4        1  4028.687306  26.265803 2021-08-28      8  Кира   22  Тюмень   \n",
       "5        1  2770.890808  16.650138 2021-10-09     10  Кира   22  Тюмень   \n",
       "6        1  3039.020292  14.927879 2021-10-19     10  Кира   22  Тюмень   \n",
       "7        1  2842.118050  23.117468 2021-11-06     11  Кира   22  Тюмень   \n",
       "8        1  3412.690668  15.238072 2021-11-14     11  Кира   22  Тюмень   \n",
       "9        1   748.690645  15.041884 2021-11-22     11  Кира   22  Тюмень   \n",
       "\n",
       "  subscription_type age_group  minute_price  start_ride_price  \\\n",
       "0             ultra     19-25             6                 0   \n",
       "1             ultra     19-25             6                 0   \n",
       "2             ultra     19-25             6                 0   \n",
       "3             ultra     19-25             6                 0   \n",
       "4             ultra     19-25             6                 0   \n",
       "5             ultra     19-25             6                 0   \n",
       "6             ultra     19-25             6                 0   \n",
       "7             ultra     19-25             6                 0   \n",
       "8             ultra     19-25             6                 0   \n",
       "9             ultra     19-25             6                 0   \n",
       "\n",
       "   subscription_fee  \n",
       "0               199  \n",
       "1               199  \n",
       "2               199  \n",
       "3               199  \n",
       "4               199  \n",
       "5               199  \n",
       "6               199  \n",
       "7               199  \n",
       "8               199  \n",
       "9               199  "
      ]
     },
     "execution_count": 34,
     "metadata": {},
     "output_type": "execute_result"
    }
   ],
   "source": [
    "first_merge = rides.merge(users, on='user_id', how='left') # первое объединение с таблицой поездок\n",
    "final_df =  first_merge.merge(subscriptions, on='subscription_type', how='left') # финальная таблица с объединением данных с подписками\n",
    "final_df.head(10)"
   ]
  },
  {
   "cell_type": "code",
   "execution_count": 35,
   "id": "cfb3a47b",
   "metadata": {},
   "outputs": [
    {
     "name": "stdout",
     "output_type": "stream",
     "text": [
      "Количество строк и столбцов в новой таблице: (18068, 13)\n"
     ]
    }
   ],
   "source": [
    "print(\"Количество строк и столбцов в новой таблице:\", final_df.shape)"
   ]
  },
  {
   "cell_type": "markdown",
   "id": "9cdcf7de",
   "metadata": {},
   "source": [
    "Объединили таблицу, сверили с тем что  таблице rides было 18068 строк, в новой таблице так же и стоблцы соответствуют, значит данные не потеряли. Так же видим что столбцы из subscription так же все добавились"
   ]
  },
  {
   "cell_type": "markdown",
   "id": "f3f1dfbc",
   "metadata": {},
   "source": [
    "**4.2 Создайте ещё два датафрейма из датафрейма, созданного на этапе 4.1:**  \n",
    "c данными о пользователях без подписки;  \n",
    "с данными о пользователях с подпиской.  "
   ]
  },
  {
   "cell_type": "markdown",
   "id": "b16d8f40",
   "metadata": {},
   "source": [
    "Датафрейм c данными о пользователях без подписки"
   ]
  },
  {
   "cell_type": "code",
   "execution_count": 36,
   "id": "75f8708b",
   "metadata": {},
   "outputs": [
    {
     "data": {
      "text/html": [
       "<div>\n",
       "<style scoped>\n",
       "    .dataframe tbody tr th:only-of-type {\n",
       "        vertical-align: middle;\n",
       "    }\n",
       "\n",
       "    .dataframe tbody tr th {\n",
       "        vertical-align: top;\n",
       "    }\n",
       "\n",
       "    .dataframe thead th {\n",
       "        text-align: right;\n",
       "    }\n",
       "</style>\n",
       "<table border=\"1\" class=\"dataframe\">\n",
       "  <thead>\n",
       "    <tr style=\"text-align: right;\">\n",
       "      <th></th>\n",
       "      <th>user_id</th>\n",
       "      <th>distance</th>\n",
       "      <th>duration</th>\n",
       "      <th>date</th>\n",
       "      <th>month</th>\n",
       "      <th>name</th>\n",
       "      <th>age</th>\n",
       "      <th>city</th>\n",
       "      <th>subscription_type</th>\n",
       "      <th>age_group</th>\n",
       "      <th>minute_price</th>\n",
       "      <th>start_ride_price</th>\n",
       "      <th>subscription_fee</th>\n",
       "    </tr>\n",
       "  </thead>\n",
       "  <tbody>\n",
       "    <tr>\n",
       "      <th>6500</th>\n",
       "      <td>700</td>\n",
       "      <td>2515.690719</td>\n",
       "      <td>14.944286</td>\n",
       "      <td>2021-01-02</td>\n",
       "      <td>1</td>\n",
       "      <td>Айдар</td>\n",
       "      <td>22</td>\n",
       "      <td>Омск</td>\n",
       "      <td>free</td>\n",
       "      <td>19-25</td>\n",
       "      <td>8</td>\n",
       "      <td>50</td>\n",
       "      <td>0</td>\n",
       "    </tr>\n",
       "    <tr>\n",
       "      <th>6501</th>\n",
       "      <td>700</td>\n",
       "      <td>846.932642</td>\n",
       "      <td>16.234663</td>\n",
       "      <td>2021-02-01</td>\n",
       "      <td>2</td>\n",
       "      <td>Айдар</td>\n",
       "      <td>22</td>\n",
       "      <td>Омск</td>\n",
       "      <td>free</td>\n",
       "      <td>19-25</td>\n",
       "      <td>8</td>\n",
       "      <td>50</td>\n",
       "      <td>0</td>\n",
       "    </tr>\n",
       "    <tr>\n",
       "      <th>6502</th>\n",
       "      <td>700</td>\n",
       "      <td>4004.434142</td>\n",
       "      <td>20.016628</td>\n",
       "      <td>2021-02-04</td>\n",
       "      <td>2</td>\n",
       "      <td>Айдар</td>\n",
       "      <td>22</td>\n",
       "      <td>Омск</td>\n",
       "      <td>free</td>\n",
       "      <td>19-25</td>\n",
       "      <td>8</td>\n",
       "      <td>50</td>\n",
       "      <td>0</td>\n",
       "    </tr>\n",
       "    <tr>\n",
       "      <th>6503</th>\n",
       "      <td>700</td>\n",
       "      <td>1205.911290</td>\n",
       "      <td>9.782872</td>\n",
       "      <td>2021-02-10</td>\n",
       "      <td>2</td>\n",
       "      <td>Айдар</td>\n",
       "      <td>22</td>\n",
       "      <td>Омск</td>\n",
       "      <td>free</td>\n",
       "      <td>19-25</td>\n",
       "      <td>8</td>\n",
       "      <td>50</td>\n",
       "      <td>0</td>\n",
       "    </tr>\n",
       "    <tr>\n",
       "      <th>6504</th>\n",
       "      <td>700</td>\n",
       "      <td>3047.379435</td>\n",
       "      <td>17.427673</td>\n",
       "      <td>2021-02-14</td>\n",
       "      <td>2</td>\n",
       "      <td>Айдар</td>\n",
       "      <td>22</td>\n",
       "      <td>Омск</td>\n",
       "      <td>free</td>\n",
       "      <td>19-25</td>\n",
       "      <td>8</td>\n",
       "      <td>50</td>\n",
       "      <td>0</td>\n",
       "    </tr>\n",
       "  </tbody>\n",
       "</table>\n",
       "</div>"
      ],
      "text/plain": [
       "      user_id     distance   duration       date  month   name  age  city  \\\n",
       "6500      700  2515.690719  14.944286 2021-01-02      1  Айдар   22  Омск   \n",
       "6501      700   846.932642  16.234663 2021-02-01      2  Айдар   22  Омск   \n",
       "6502      700  4004.434142  20.016628 2021-02-04      2  Айдар   22  Омск   \n",
       "6503      700  1205.911290   9.782872 2021-02-10      2  Айдар   22  Омск   \n",
       "6504      700  3047.379435  17.427673 2021-02-14      2  Айдар   22  Омск   \n",
       "\n",
       "     subscription_type age_group  minute_price  start_ride_price  \\\n",
       "6500              free     19-25             8                50   \n",
       "6501              free     19-25             8                50   \n",
       "6502              free     19-25             8                50   \n",
       "6503              free     19-25             8                50   \n",
       "6504              free     19-25             8                50   \n",
       "\n",
       "      subscription_fee  \n",
       "6500                 0  \n",
       "6501                 0  \n",
       "6502                 0  \n",
       "6503                 0  \n",
       "6504                 0  "
      ]
     },
     "execution_count": 36,
     "metadata": {},
     "output_type": "execute_result"
    }
   ],
   "source": [
    "free_users_df =  final_df[final_df['subscription_type'] == 'free']  #датафрейм без подписки\n",
    "free_users_df.head(5)"
   ]
  },
  {
   "cell_type": "markdown",
   "id": "9577e6e6",
   "metadata": {},
   "source": [
    "Датафрейм c данными о пользователях c подпиской"
   ]
  },
  {
   "cell_type": "code",
   "execution_count": 37,
   "id": "ca1f7058",
   "metadata": {},
   "outputs": [
    {
     "data": {
      "text/html": [
       "<div>\n",
       "<style scoped>\n",
       "    .dataframe tbody tr th:only-of-type {\n",
       "        vertical-align: middle;\n",
       "    }\n",
       "\n",
       "    .dataframe tbody tr th {\n",
       "        vertical-align: top;\n",
       "    }\n",
       "\n",
       "    .dataframe thead th {\n",
       "        text-align: right;\n",
       "    }\n",
       "</style>\n",
       "<table border=\"1\" class=\"dataframe\">\n",
       "  <thead>\n",
       "    <tr style=\"text-align: right;\">\n",
       "      <th></th>\n",
       "      <th>user_id</th>\n",
       "      <th>distance</th>\n",
       "      <th>duration</th>\n",
       "      <th>date</th>\n",
       "      <th>month</th>\n",
       "      <th>name</th>\n",
       "      <th>age</th>\n",
       "      <th>city</th>\n",
       "      <th>subscription_type</th>\n",
       "      <th>age_group</th>\n",
       "      <th>minute_price</th>\n",
       "      <th>start_ride_price</th>\n",
       "      <th>subscription_fee</th>\n",
       "    </tr>\n",
       "  </thead>\n",
       "  <tbody>\n",
       "    <tr>\n",
       "      <th>0</th>\n",
       "      <td>1</td>\n",
       "      <td>4409.919140</td>\n",
       "      <td>25.599769</td>\n",
       "      <td>2021-01-01</td>\n",
       "      <td>1</td>\n",
       "      <td>Кира</td>\n",
       "      <td>22</td>\n",
       "      <td>Тюмень</td>\n",
       "      <td>ultra</td>\n",
       "      <td>19-25</td>\n",
       "      <td>6</td>\n",
       "      <td>0</td>\n",
       "      <td>199</td>\n",
       "    </tr>\n",
       "    <tr>\n",
       "      <th>1</th>\n",
       "      <td>1</td>\n",
       "      <td>2617.592153</td>\n",
       "      <td>15.816871</td>\n",
       "      <td>2021-01-18</td>\n",
       "      <td>1</td>\n",
       "      <td>Кира</td>\n",
       "      <td>22</td>\n",
       "      <td>Тюмень</td>\n",
       "      <td>ultra</td>\n",
       "      <td>19-25</td>\n",
       "      <td>6</td>\n",
       "      <td>0</td>\n",
       "      <td>199</td>\n",
       "    </tr>\n",
       "    <tr>\n",
       "      <th>2</th>\n",
       "      <td>1</td>\n",
       "      <td>754.159807</td>\n",
       "      <td>6.232113</td>\n",
       "      <td>2021-04-20</td>\n",
       "      <td>4</td>\n",
       "      <td>Кира</td>\n",
       "      <td>22</td>\n",
       "      <td>Тюмень</td>\n",
       "      <td>ultra</td>\n",
       "      <td>19-25</td>\n",
       "      <td>6</td>\n",
       "      <td>0</td>\n",
       "      <td>199</td>\n",
       "    </tr>\n",
       "    <tr>\n",
       "      <th>3</th>\n",
       "      <td>1</td>\n",
       "      <td>2694.783254</td>\n",
       "      <td>18.511000</td>\n",
       "      <td>2021-08-11</td>\n",
       "      <td>8</td>\n",
       "      <td>Кира</td>\n",
       "      <td>22</td>\n",
       "      <td>Тюмень</td>\n",
       "      <td>ultra</td>\n",
       "      <td>19-25</td>\n",
       "      <td>6</td>\n",
       "      <td>0</td>\n",
       "      <td>199</td>\n",
       "    </tr>\n",
       "    <tr>\n",
       "      <th>4</th>\n",
       "      <td>1</td>\n",
       "      <td>4028.687306</td>\n",
       "      <td>26.265803</td>\n",
       "      <td>2021-08-28</td>\n",
       "      <td>8</td>\n",
       "      <td>Кира</td>\n",
       "      <td>22</td>\n",
       "      <td>Тюмень</td>\n",
       "      <td>ultra</td>\n",
       "      <td>19-25</td>\n",
       "      <td>6</td>\n",
       "      <td>0</td>\n",
       "      <td>199</td>\n",
       "    </tr>\n",
       "  </tbody>\n",
       "</table>\n",
       "</div>"
      ],
      "text/plain": [
       "   user_id     distance   duration       date  month  name  age    city  \\\n",
       "0        1  4409.919140  25.599769 2021-01-01      1  Кира   22  Тюмень   \n",
       "1        1  2617.592153  15.816871 2021-01-18      1  Кира   22  Тюмень   \n",
       "2        1   754.159807   6.232113 2021-04-20      4  Кира   22  Тюмень   \n",
       "3        1  2694.783254  18.511000 2021-08-11      8  Кира   22  Тюмень   \n",
       "4        1  4028.687306  26.265803 2021-08-28      8  Кира   22  Тюмень   \n",
       "\n",
       "  subscription_type age_group  minute_price  start_ride_price  \\\n",
       "0             ultra     19-25             6                 0   \n",
       "1             ultra     19-25             6                 0   \n",
       "2             ultra     19-25             6                 0   \n",
       "3             ultra     19-25             6                 0   \n",
       "4             ultra     19-25             6                 0   \n",
       "\n",
       "   subscription_fee  \n",
       "0               199  \n",
       "1               199  \n",
       "2               199  \n",
       "3               199  \n",
       "4               199  "
      ]
     },
     "execution_count": 37,
     "metadata": {},
     "output_type": "execute_result"
    }
   ],
   "source": [
    "ultra_users_df =  final_df[final_df['subscription_type'] == 'ultra'] #датафрейм с подпиской\n",
    "ultra_users_df.head(5)"
   ]
  },
  {
   "cell_type": "markdown",
   "id": "fc17f129",
   "metadata": {},
   "source": [
    "**4.3 Визуализируйте информацию о расстоянии и времени поездок для пользователей обеих категорий**"
   ]
  },
  {
   "cell_type": "code",
   "execution_count": 38,
   "id": "1b1aac96",
   "metadata": {},
   "outputs": [
    {
     "data": {
      "image/png": "[encoded data removed]",
      "text/plain": [
       "<Figure size 864x432 with 2 Axes>"
      ]
     },
     "metadata": {
      "needs_background": "light"
     },
     "output_type": "display_data"
    }
   ],
   "source": [
    "# Создание гистограммы для расстояния поездок\n",
    "plt.figure(figsize=(12, 6))\n",
    "plt.subplot(1, 2, 1)\n",
    "plt.hist(ultra_users_df['distance'], bins=30, color='blue', alpha=0.7, label='С подпиской')\n",
    "plt.hist(free_users_df['distance'], bins=30, color='green', alpha=0.7, label='Без подписки')\n",
    "plt.xlabel('Расстояние поездок (метры)')\n",
    "plt.ylabel('Частота')\n",
    "plt.title('Гистограмма расстояния поездок')\n",
    "plt.legend()\n",
    "\n",
    "# Создание гистограммы для времени поездок\n",
    "plt.subplot(1, 2, 2)\n",
    "plt.hist(ultra_users_df['duration'], bins=30, color='blue', alpha=0.7, label='С подпиской')\n",
    "plt.hist(free_users_df['duration'], bins=30, color='green', alpha=0.7, label='Без подписки')\n",
    "plt.xlabel('Время поездок (минуты)')\n",
    "plt.ylabel('Частота')\n",
    "plt.title('Гистограмма времени поездок')\n",
    "plt.legend()\n",
    "\n",
    "plt.tight_layout()\n",
    "plt.show()"
   ]
  },
  {
   "cell_type": "code",
   "execution_count": 39,
   "id": "c03a2022",
   "metadata": {},
   "outputs": [
    {
     "name": "stdout",
     "output_type": "stream",
     "text": [
      "Количество значений равных 0.5 в столбце 'duration': 95\n"
     ]
    },
    {
     "data": {
      "text/html": [
       "<div>\n",
       "<style scoped>\n",
       "    .dataframe tbody tr th:only-of-type {\n",
       "        vertical-align: middle;\n",
       "    }\n",
       "\n",
       "    .dataframe tbody tr th {\n",
       "        vertical-align: top;\n",
       "    }\n",
       "\n",
       "    .dataframe thead th {\n",
       "        text-align: right;\n",
       "    }\n",
       "</style>\n",
       "<table border=\"1\" class=\"dataframe\">\n",
       "  <thead>\n",
       "    <tr style=\"text-align: right;\">\n",
       "      <th></th>\n",
       "      <th>user_id</th>\n",
       "      <th>distance</th>\n",
       "      <th>duration</th>\n",
       "      <th>date</th>\n",
       "      <th>month</th>\n",
       "      <th>name</th>\n",
       "      <th>age</th>\n",
       "      <th>city</th>\n",
       "      <th>subscription_type</th>\n",
       "      <th>age_group</th>\n",
       "      <th>minute_price</th>\n",
       "      <th>start_ride_price</th>\n",
       "      <th>subscription_fee</th>\n",
       "    </tr>\n",
       "  </thead>\n",
       "  <tbody>\n",
       "    <tr>\n",
       "      <th>6531</th>\n",
       "      <td>701</td>\n",
       "      <td>4196.445201</td>\n",
       "      <td>0.5</td>\n",
       "      <td>2021-08-31</td>\n",
       "      <td>8</td>\n",
       "      <td>Иван</td>\n",
       "      <td>31</td>\n",
       "      <td>Екатеринбург</td>\n",
       "      <td>free</td>\n",
       "      <td>26-35</td>\n",
       "      <td>8</td>\n",
       "      <td>50</td>\n",
       "      <td>0</td>\n",
       "    </tr>\n",
       "    <tr>\n",
       "      <th>6570</th>\n",
       "      <td>704</td>\n",
       "      <td>4830.824371</td>\n",
       "      <td>0.5</td>\n",
       "      <td>2021-10-14</td>\n",
       "      <td>10</td>\n",
       "      <td>Мирон</td>\n",
       "      <td>29</td>\n",
       "      <td>Ростов-на-Дону</td>\n",
       "      <td>free</td>\n",
       "      <td>26-35</td>\n",
       "      <td>8</td>\n",
       "      <td>50</td>\n",
       "      <td>0</td>\n",
       "    </tr>\n",
       "    <tr>\n",
       "      <th>6680</th>\n",
       "      <td>712</td>\n",
       "      <td>4684.004397</td>\n",
       "      <td>0.5</td>\n",
       "      <td>2021-03-04</td>\n",
       "      <td>3</td>\n",
       "      <td>Дарья</td>\n",
       "      <td>28</td>\n",
       "      <td>Москва</td>\n",
       "      <td>free</td>\n",
       "      <td>26-35</td>\n",
       "      <td>8</td>\n",
       "      <td>50</td>\n",
       "      <td>0</td>\n",
       "    </tr>\n",
       "    <tr>\n",
       "      <th>6695</th>\n",
       "      <td>713</td>\n",
       "      <td>5215.642710</td>\n",
       "      <td>0.5</td>\n",
       "      <td>2021-02-25</td>\n",
       "      <td>2</td>\n",
       "      <td>Святослав</td>\n",
       "      <td>30</td>\n",
       "      <td>Краснодар</td>\n",
       "      <td>free</td>\n",
       "      <td>26-35</td>\n",
       "      <td>8</td>\n",
       "      <td>50</td>\n",
       "      <td>0</td>\n",
       "    </tr>\n",
       "  </tbody>\n",
       "</table>\n",
       "</div>"
      ],
      "text/plain": [
       "      user_id     distance  duration       date  month       name  age  \\\n",
       "6531      701  4196.445201       0.5 2021-08-31      8       Иван   31   \n",
       "6570      704  4830.824371       0.5 2021-10-14     10      Мирон   29   \n",
       "6680      712  4684.004397       0.5 2021-03-04      3      Дарья   28   \n",
       "6695      713  5215.642710       0.5 2021-02-25      2  Святослав   30   \n",
       "\n",
       "                city subscription_type age_group  minute_price  \\\n",
       "6531    Екатеринбург              free     26-35             8   \n",
       "6570  Ростов-на-Дону              free     26-35             8   \n",
       "6680          Москва              free     26-35             8   \n",
       "6695       Краснодар              free     26-35             8   \n",
       "\n",
       "      start_ride_price  subscription_fee  \n",
       "6531                50                 0  \n",
       "6570                50                 0  \n",
       "6680                50                 0  \n",
       "6695                50                 0  "
      ]
     },
     "execution_count": 39,
     "metadata": {},
     "output_type": "execute_result"
    }
   ],
   "source": [
    "# выделение поездок продолжительностью 30 секунд в датафрейме пользователей без подписок\n",
    "short_duration_trips_free = free_users_df[(free_users_df['duration'] == 0.5)] \n",
    "count_0_5_duration_free = (free_users_df['duration'] == 0.5).sum()\n",
    "print(\"Количество значений равных 0.5 в столбце 'duration':\", count_0_5_duration_free)\n",
    "short_duration_trips_free.head(4)"
   ]
  },
  {
   "cell_type": "code",
   "execution_count": 40,
   "id": "2f6ad73b",
   "metadata": {},
   "outputs": [
    {
     "data": {
      "image/png": "[encoded data removed]",
      "text/plain": [
       "<Figure size 432x288 with 1 Axes>"
      ]
     },
     "metadata": {
      "needs_background": "light"
     },
     "output_type": "display_data"
    }
   ],
   "source": [
    "plt.hist(short_duration_trips_free['distance'], bins=30, color='green', alpha=0.7)\n",
    "plt.xlabel('Расстояние поездок (метры)')\n",
    "plt.ylabel('Частота')\n",
    "plt.title('Гистограмма расстояния для поездок продолжительностью 30 секунд')\n",
    "plt.show()"
   ]
  },
  {
   "cell_type": "markdown",
   "id": "17071530",
   "metadata": {},
   "source": [
    "Исходя из этих данных получается, что  за 30 секунд есть 95 строк  при этом все данные начинаются с  *4,5 км и доходят  до  7 км* и самое главное эти данные находятся в датафрейме *пользователей без подписок*. На первый взгляд эти данные не логичные и не реалистичные и похожи на аномалии, но необходимо уточнить в связи с чем такие данные и обратиться к менеджерам проекта.\n",
    "Возможно это акция как  *«бесплатные минуты»* либо что-то другое для *мотивации* приобретения подписки для пользователей без подписок. Поэтому на данном этапе предлагаю не удалять, т.к удаление повлечет за собой изменение данных в выручки "
   ]
  },
  {
   "cell_type": "markdown",
   "id": "2d599db6",
   "metadata": {},
   "source": [
    "Провал между двумя пиковыми значениями по продолжительности у *пользователей без подписки* связан с тем, что в этот промежуток пользователи переходят на такси и на данном промежутке стоимость такси и аренды самоката становятся сопоставимыми или даже близкими, и пользователи без подписки могут предпочесть такси из-за комфорта или других причин.  \n",
    "И  это как раз доказывает мою теорию, т.к для *пользователей с подпиской* пик является 3 км т.к. для них как раз таки выгоднее использовать самокат чем такси.  \n",
    "\n",
    "На обоих графиках о продолжительности и длительности возле минимальных значений, а именно в случае с пользователями без подписок есть данные. Я думаю это связано:   \n",
    "1. Множество небольших поездок среди пользователей без подписки вероятно, испытывают новый сервис для себя в качетсве аренды самокатов. Возможно, эти короткие поездки представляют собой своего рода 'пробные' поездки, которые пользователи предпринимают, прежде чем принять решение о подписке. Это подтверждается отсутствием подобных значений среди пользователей с подпиской. Такие данные не являются аномалией, так как для большинства пользователей естественно опробовать новую услугу на коротком расстоянии, прежде чем сделать долгосрочное обязательство в виде подписки.\n",
    "2. Не возможно использовать самокат.Причины: поломка, недоступен,низкий заряд, другие ошибки и естественно пользователь сам передумал использовать самокат.  \n",
    "Я не считаю такие данные аномалией."
   ]
  },
  {
   "cell_type": "markdown",
   "id": "bd6d021e",
   "metadata": {},
   "source": [
    "Данные без подписки в двух графиках гораздо более \"размыты\" чем с подпиской.  Встречаются даже значения около 0, получается есть последствия большой дисперсии, то есть большого разброса данных вокруг среднего в данных без подписок\n",
    "Исходя из графиков можно сделать следующие выводы:  \n",
    "В случае *расстрояний*  без подписок поездки намного длинее достигают 7 км и имеют более большой размах и чаще встречаются, в случае с подпиской  максимальное растроение не доходит 6 км, встречается реже.  \n",
    "В случае *длительности*  без подписок поездки как и в расстоянии встрчаются чаще при этом не привышают 35 мин, а в случае подписок максимальная дительность достигает  40 мин и как с расстрояним встречается реже.  "
   ]
  },
  {
   "cell_type": "markdown",
   "id": "3a82c5d4",
   "metadata": {},
   "source": [
    "#### Шаг 5. Подсчёт выручки"
   ]
  },
  {
   "cell_type": "markdown",
   "id": "75bac78c",
   "metadata": {},
   "source": [
    "**5.1 Создайте датафрейм с агрегированными данными о поездках на основе датафрейма с объединёнными данными из шага 4**  \n",
    "Найдите суммарное расстояние, количество поездок и суммарное время для каждого пользователя за каждый месяц.   \n",
    "Продолжительность каждой поездки в каждой строке исходного датафрейма для подсчёта стоимости округляется до следующего целого числа: например, значения 25.3, 25.5 и 26.0 должны быть преобразованы к 26."
   ]
  },
  {
   "cell_type": "code",
   "execution_count": 41,
   "id": "764711ad",
   "metadata": {},
   "outputs": [
    {
     "data": {
      "text/html": [
       "<div>\n",
       "<style scoped>\n",
       "    .dataframe tbody tr th:only-of-type {\n",
       "        vertical-align: middle;\n",
       "    }\n",
       "\n",
       "    .dataframe tbody tr th {\n",
       "        vertical-align: top;\n",
       "    }\n",
       "\n",
       "    .dataframe thead th {\n",
       "        text-align: right;\n",
       "    }\n",
       "</style>\n",
       "<table border=\"1\" class=\"dataframe\">\n",
       "  <thead>\n",
       "    <tr style=\"text-align: right;\">\n",
       "      <th></th>\n",
       "      <th>user_id</th>\n",
       "      <th>month</th>\n",
       "      <th>sum_distance</th>\n",
       "      <th>sum_duration</th>\n",
       "      <th>trips_count</th>\n",
       "      <th>subscription_type</th>\n",
       "      <th>minute_price</th>\n",
       "      <th>start_ride_price</th>\n",
       "      <th>subscription_fee</th>\n",
       "    </tr>\n",
       "  </thead>\n",
       "  <tbody>\n",
       "    <tr>\n",
       "      <th>0</th>\n",
       "      <td>1</td>\n",
       "      <td>1</td>\n",
       "      <td>7027.511294</td>\n",
       "      <td>42.0</td>\n",
       "      <td>2</td>\n",
       "      <td>ultra</td>\n",
       "      <td>6</td>\n",
       "      <td>0</td>\n",
       "      <td>199</td>\n",
       "    </tr>\n",
       "    <tr>\n",
       "      <th>1</th>\n",
       "      <td>1</td>\n",
       "      <td>4</td>\n",
       "      <td>754.159807</td>\n",
       "      <td>7.0</td>\n",
       "      <td>1</td>\n",
       "      <td>ultra</td>\n",
       "      <td>6</td>\n",
       "      <td>0</td>\n",
       "      <td>199</td>\n",
       "    </tr>\n",
       "    <tr>\n",
       "      <th>2</th>\n",
       "      <td>1</td>\n",
       "      <td>8</td>\n",
       "      <td>6723.470560</td>\n",
       "      <td>46.0</td>\n",
       "      <td>2</td>\n",
       "      <td>ultra</td>\n",
       "      <td>6</td>\n",
       "      <td>0</td>\n",
       "      <td>199</td>\n",
       "    </tr>\n",
       "    <tr>\n",
       "      <th>3</th>\n",
       "      <td>1</td>\n",
       "      <td>10</td>\n",
       "      <td>5809.911100</td>\n",
       "      <td>32.0</td>\n",
       "      <td>2</td>\n",
       "      <td>ultra</td>\n",
       "      <td>6</td>\n",
       "      <td>0</td>\n",
       "      <td>199</td>\n",
       "    </tr>\n",
       "    <tr>\n",
       "      <th>4</th>\n",
       "      <td>1</td>\n",
       "      <td>11</td>\n",
       "      <td>7003.499363</td>\n",
       "      <td>56.0</td>\n",
       "      <td>3</td>\n",
       "      <td>ultra</td>\n",
       "      <td>6</td>\n",
       "      <td>0</td>\n",
       "      <td>199</td>\n",
       "    </tr>\n",
       "  </tbody>\n",
       "</table>\n",
       "</div>"
      ],
      "text/plain": [
       "   user_id  month  sum_distance  sum_duration  trips_count subscription_type  \\\n",
       "0        1      1   7027.511294          42.0            2             ultra   \n",
       "1        1      4    754.159807           7.0            1             ultra   \n",
       "2        1      8   6723.470560          46.0            2             ultra   \n",
       "3        1     10   5809.911100          32.0            2             ultra   \n",
       "4        1     11   7003.499363          56.0            3             ultra   \n",
       "\n",
       "   minute_price  start_ride_price  subscription_fee  \n",
       "0             6                 0               199  \n",
       "1             6                 0               199  \n",
       "2             6                 0               199  \n",
       "3             6                 0               199  \n",
       "4             6                 0               199  "
      ]
     },
     "execution_count": 41,
     "metadata": {},
     "output_type": "execute_result"
    }
   ],
   "source": [
    "final_df['duration'] = np.ceil(final_df['duration'])# каждое значение из столбца duration округляется с помощью «потолка»\n",
    "\n",
    "# группировка по пользователям, месяцам и агрегация данных\n",
    "full_df = final_df.groupby(['user_id','month']) \\\n",
    "                        .agg({'distance': 'sum', 'duration': ['sum', 'count'], \n",
    "                              'subscription_type': 'first',\n",
    "                              'minute_price': 'first', 'start_ride_price': 'first',\n",
    "                              'subscription_fee': 'first'}) \\\n",
    "                        .reset_index()\n",
    "\n",
    "# переименование столбцов\n",
    "full_df.columns = ['user_id', 'month', 'sum_distance', 'sum_duration', \n",
    "                         'trips_count', 'subscription_type', \n",
    "                         'minute_price', 'start_ride_price', 'subscription_fee']\n",
    "full_df.head(5)"
   ]
  },
  {
   "cell_type": "code",
   "execution_count": 42,
   "id": "b106d9d0",
   "metadata": {},
   "outputs": [
    {
     "name": "stdout",
     "output_type": "stream",
     "text": [
      "Количество строк и столбцов в full_df: (11331, 9)\n"
     ]
    }
   ],
   "source": [
    "print(\"Количество строк и столбцов в full_df:\", full_df.shape)"
   ]
  },
  {
   "cell_type": "markdown",
   "id": "4fc49007",
   "metadata": {},
   "source": [
    "**5.2 В этот же датафрейм добавьте столбец с помесячной выручкой, которую принёс каждый пользователь.**  \n",
    "Для этого обратитесь к информации об условиях оплаты для подписчиков и тех, у кого нет подписки.  \n",
    "\n",
    "Помесячная выручка считается по формуле: (стоимость старта поездки ×  количество поездок) + стоимость одной минуты поездки ×\n",
    "общая продолжительность всех поездок в минутах) + стоимость подписки"
   ]
  },
  {
   "cell_type": "code",
   "execution_count": 43,
   "id": "9733985f",
   "metadata": {},
   "outputs": [
    {
     "data": {
      "text/html": [
       "<div>\n",
       "<style scoped>\n",
       "    .dataframe tbody tr th:only-of-type {\n",
       "        vertical-align: middle;\n",
       "    }\n",
       "\n",
       "    .dataframe tbody tr th {\n",
       "        vertical-align: top;\n",
       "    }\n",
       "\n",
       "    .dataframe thead th {\n",
       "        text-align: right;\n",
       "    }\n",
       "</style>\n",
       "<table border=\"1\" class=\"dataframe\">\n",
       "  <thead>\n",
       "    <tr style=\"text-align: right;\">\n",
       "      <th></th>\n",
       "      <th>user_id</th>\n",
       "      <th>month</th>\n",
       "      <th>sum_distance</th>\n",
       "      <th>sum_duration</th>\n",
       "      <th>trips_count</th>\n",
       "      <th>subscription_type</th>\n",
       "      <th>minute_price</th>\n",
       "      <th>start_ride_price</th>\n",
       "      <th>subscription_fee</th>\n",
       "      <th>revenue</th>\n",
       "    </tr>\n",
       "  </thead>\n",
       "  <tbody>\n",
       "    <tr>\n",
       "      <th>0</th>\n",
       "      <td>1</td>\n",
       "      <td>1</td>\n",
       "      <td>7027.511294</td>\n",
       "      <td>42.0</td>\n",
       "      <td>2</td>\n",
       "      <td>ultra</td>\n",
       "      <td>6</td>\n",
       "      <td>0</td>\n",
       "      <td>199</td>\n",
       "      <td>451.0</td>\n",
       "    </tr>\n",
       "    <tr>\n",
       "      <th>1</th>\n",
       "      <td>1</td>\n",
       "      <td>4</td>\n",
       "      <td>754.159807</td>\n",
       "      <td>7.0</td>\n",
       "      <td>1</td>\n",
       "      <td>ultra</td>\n",
       "      <td>6</td>\n",
       "      <td>0</td>\n",
       "      <td>199</td>\n",
       "      <td>241.0</td>\n",
       "    </tr>\n",
       "    <tr>\n",
       "      <th>2</th>\n",
       "      <td>1</td>\n",
       "      <td>8</td>\n",
       "      <td>6723.470560</td>\n",
       "      <td>46.0</td>\n",
       "      <td>2</td>\n",
       "      <td>ultra</td>\n",
       "      <td>6</td>\n",
       "      <td>0</td>\n",
       "      <td>199</td>\n",
       "      <td>475.0</td>\n",
       "    </tr>\n",
       "    <tr>\n",
       "      <th>3</th>\n",
       "      <td>1</td>\n",
       "      <td>10</td>\n",
       "      <td>5809.911100</td>\n",
       "      <td>32.0</td>\n",
       "      <td>2</td>\n",
       "      <td>ultra</td>\n",
       "      <td>6</td>\n",
       "      <td>0</td>\n",
       "      <td>199</td>\n",
       "      <td>391.0</td>\n",
       "    </tr>\n",
       "    <tr>\n",
       "      <th>4</th>\n",
       "      <td>1</td>\n",
       "      <td>11</td>\n",
       "      <td>7003.499363</td>\n",
       "      <td>56.0</td>\n",
       "      <td>3</td>\n",
       "      <td>ultra</td>\n",
       "      <td>6</td>\n",
       "      <td>0</td>\n",
       "      <td>199</td>\n",
       "      <td>535.0</td>\n",
       "    </tr>\n",
       "  </tbody>\n",
       "</table>\n",
       "</div>"
      ],
      "text/plain": [
       "   user_id  month  sum_distance  sum_duration  trips_count subscription_type  \\\n",
       "0        1      1   7027.511294          42.0            2             ultra   \n",
       "1        1      4    754.159807           7.0            1             ultra   \n",
       "2        1      8   6723.470560          46.0            2             ultra   \n",
       "3        1     10   5809.911100          32.0            2             ultra   \n",
       "4        1     11   7003.499363          56.0            3             ultra   \n",
       "\n",
       "   minute_price  start_ride_price  subscription_fee  revenue  \n",
       "0             6                 0               199    451.0  \n",
       "1             6                 0               199    241.0  \n",
       "2             6                 0               199    475.0  \n",
       "3             6                 0               199    391.0  \n",
       "4             6                 0               199    535.0  "
      ]
     },
     "execution_count": 43,
     "metadata": {},
     "output_type": "execute_result"
    }
   ],
   "source": [
    "# вычисление выручки для каждого пользователя в каждом месяце\n",
    "full_df['revenue'] =  ((full_df['start_ride_price'] * full_df['trips_count'] ) +\\\n",
    "                      full_df['minute_price'] * full_df['sum_duration'])+full_df['subscription_fee']\n",
    "full_df.head(5)"
   ]
  },
  {
   "cell_type": "code",
   "execution_count": 44,
   "id": "a5ffeaa5",
   "metadata": {},
   "outputs": [
    {
     "name": "stdout",
     "output_type": "stream",
     "text": [
      "Количество строк и столбцов в full_df: (11331, 10)\n"
     ]
    }
   ],
   "source": [
    "print(\"Количество строк и столбцов в full_df:\", full_df.shape)"
   ]
  },
  {
   "cell_type": "markdown",
   "id": "ff81089e",
   "metadata": {},
   "source": [
    "Проверили после добавления столбца стало их 10, кол-во строк не изменилось. Все верно"
   ]
  },
  {
   "cell_type": "markdown",
   "id": "2d815c81",
   "metadata": {},
   "source": [
    "#### Шаг 6. Проверка гипотез"
   ]
  },
  {
   "cell_type": "markdown",
   "id": "e60cbaea",
   "metadata": {},
   "source": [
    "Продакт-менеджеры сервиса хотят увеличить количество пользователей с подпиской. Для этого они будут проводить различные акции, но сначала нужно выяснить несколько важных моментов"
   ]
  },
  {
   "cell_type": "markdown",
   "id": "39b640d7",
   "metadata": {},
   "source": [
    "**6.1 Важно понять, тратят ли пользователи с подпиской больше времени на поездки?**  \n",
    "Если да, то пользователи с подпиской могут быть «выгоднее» для компании. Проверьте гипотезу. Используйте исходные данные о продолжительности каждой сессии — отдельно для подписчиков и тех, у кого нет подписки.  \n",
    "Обратите внимание, что мы используем alternative='greater', так как нас интересует вопрос, тратят ли пользователи с подпиской больше времени на поездки."
   ]
  },
  {
   "cell_type": "markdown",
   "id": "4d26964a",
   "metadata": {},
   "source": [
    "Сформулируем нулевую и альтернативную гипотезы:  \n",
    "**Нулевая гипотеза (H0)**: Продолжительность поездок для пользователей с подпиской **не отличается** от продолжительности поездок для пользователей без подписки.\n",
    "\n",
    "**Альтернативная гипотеза (H1)**: Продолжительность поездок для пользователей с подпиской **больше** чем продолжительность поездок для пользователей без подписки"
   ]
  },
  {
   "cell_type": "code",
   "execution_count": 45,
   "id": "67352c13",
   "metadata": {},
   "outputs": [
    {
     "name": "stdout",
     "output_type": "stream",
     "text": [
      "p-значение: 1.2804098316645618e-34\n",
      "Отвергаем нулевую гипотезу\n"
     ]
    }
   ],
   "source": [
    "ultra_users_duration = ultra_users_df['duration']  # длительность поездок с подпиской\n",
    "free_users_duration = free_users_df['duration']  # длительность поездок без подписки\n",
    "\n",
    "alpha = 0.05  # уровень статистической значимости\n",
    "\n",
    "# проверка гипотезы\n",
    "results = st.ttest_ind(ultra_users_duration, free_users_duration, alternative='greater')\n",
    "\n",
    "print('p-значение:', results.pvalue)\n",
    "\n",
    "if results.pvalue < alpha:\n",
    "    print('Отвергаем нулевую гипотезу')\n",
    "else:\n",
    "    print('Нет оснований отвергать нулевую гипотезу')\n"
   ]
  },
  {
   "cell_type": "markdown",
   "id": "89df63c7",
   "metadata": {},
   "source": [
    "Получили p-значение: 1.2804098316645613e-34 (очень близкое к нулю). Отвергаем нулевую гипотезу. Это свидетельствует о том, что у нас есть статистически значимые доказательства в пользу того, что продолжительность поездок для пользователей с подпиской больше, чем для пользователей без подписки\n"
   ]
  },
  {
   "cell_type": "markdown",
   "id": "30c51b31",
   "metadata": {},
   "source": [
    "**6.2 Расстояние одной поездки в 3130 метров — оптимальное с точки зрения износа самоката. Можно ли сказать, что расстояние, которое проезжают пользователи с подпиской за одну поездку, не превышает 3130 метров?**  \n",
    "Необходимо проверить гипотезу и сделать выводы.  \n",
    "\n",
    "Сформулируем нулевую и альтернативную гипотезы:  \n",
    "**Нулевая гипотеза (H0)**: Расстояние, которое проезжают пользователи с подпиской за одну поездку, **не превышает** 3130 метров.\n",
    "\n",
    "**Альтернативная гипотеза (H1)**: Расстояние, которое проезжают пользователи с подпиской за одну поездку, **превышает** 3130 метров.\n",
    "\n"
   ]
  },
  {
   "cell_type": "code",
   "execution_count": 46,
   "id": "165987b7",
   "metadata": {},
   "outputs": [
    {
     "name": "stdout",
     "output_type": "stream",
     "text": [
      "P-значение: 0.9195368847849785\n",
      "Нет оснований отвергать нулевую гипотезу\n"
     ]
    }
   ],
   "source": [
    "ultra_users_distance = ultra_users_df['distance'] # пользователи с подпиской по расстоянию\n",
    "\n",
    "alpha = 0.05 # уровень статистической значимости\n",
    "\n",
    "check_distance = 3130.0 # Заданное значение расстояния\n",
    "\n",
    "results_distance = st.ttest_1samp(ultra_users_distance, check_distance, alternative='greater')\n",
    "\n",
    "print(\"P-значение:\", results_distance.pvalue)\n",
    "\n",
    "if results_distance.pvalue < alpha:\n",
    "    print(f\"Отвергаем нулевую гипотезу.\")\n",
    "else:\n",
    "    print(f'Нет оснований отвергать нулевую гипотезу')"
   ]
  },
  {
   "cell_type": "markdown",
   "id": "e0bf618d",
   "metadata": {},
   "source": [
    "P-value (0.9195368847849785) больше уровня значимости alpha (0.05) Это означает, что результаты не являются статистически значимыми для отвержения нулевой гипотезы, и мы не имеем оснований считать, что среднее расстояние превышает 3130 метров"
   ]
  },
  {
   "cell_type": "markdown",
   "id": "a7234469",
   "metadata": {},
   "source": [
    "**6.3. Проверьте гипотезу о том, будет ли помесячная выручка от пользователей с подпиской по месяцам выше, чем выручка от пользователей без подписки.**  \n",
    "Сформулируем гипотезы:  \n",
    "**Нулевая гипотеза (H0)**: Средняя помесячная выручка от пользователей с подпиской равна средней помесячной выручки от пользователей без подписки.  \n",
    "\n",
    "**Альтернативная гипотеза (H1)**: Средняя помесячная выручка от пользователей с подпиской выше, чем средняя помесячная выручка от пользователей без подписки.  "
   ]
  },
  {
   "cell_type": "code",
   "execution_count": 47,
   "id": "2394941d",
   "metadata": {},
   "outputs": [
    {
     "name": "stdout",
     "output_type": "stream",
     "text": [
      "p-значение: 1.8850394384715216e-31\n",
      "Отвергаем нулевую гипотезу.\n"
     ]
    }
   ],
   "source": [
    "ultra_subscription_revenue = full_df[full_df['subscription_type'] == 'ultra']['revenue']\n",
    "#выручка поездок c подпиской\n",
    "free_subscription_revenue = full_df[full_df['subscription_type'] == 'free']['revenue']\n",
    "#выручка поездок без подписки\n",
    "\n",
    "alpha = 0.05 # уровень статистической значимости\n",
    "\n",
    "results_revenue = st.ttest_ind(ultra_subscription_revenue, free_subscription_revenue,alternative='greater')\n",
    "\n",
    "print('p-значение:', results_revenue.pvalue)\n",
    "\n",
    "if results_revenue.pvalue < alpha:\n",
    "    print(\"Отвергаем нулевую гипотезу.\")\n",
    "else:\n",
    "    print(\"Нет оснований отвергать нулевую гипотезу.\") "
   ]
  },
  {
   "cell_type": "markdown",
   "id": "dfc1844d",
   "metadata": {},
   "source": [
    "В данном случае, p-значении равно 1.8850394384715216e-31 и меньше уровня статистической значимости (alpha 0,05), тогда мы отвергаем нулевую гипотезу. Это указывает на то, что имеем основание считать, ччто средняя помесячная выручка от пользователей с подпиской выше, чем средняя помесячная выручка от пользователей без подписки."
   ]
  },
  {
   "cell_type": "markdown",
   "id": "6a577773",
   "metadata": {},
   "source": [
    "**6.4. Представьте такую ситуацию: техническая команда сервиса обновила сервера, с которыми взаимодействует мобильное приложение. Она надеется, что из-за этого количество обращений в техподдержку значимо снизилось. Некоторый файл содержит для каждого пользователя данные о количестве обращений до обновления и после него. Какой тест вам понадобился бы для проверки этой гипотезы?**"
   ]
  },
  {
   "cell_type": "markdown",
   "id": "9e81b8a4",
   "metadata": {},
   "source": [
    "Можно провести **проверку двусторонней гипотезы**.    \n",
    "В парном тесте основной вопрос заключается в том, есть ли статистически значимое различие между средними значениями двух связанных групп до обновления и после обновления.  \n",
    "Формулировка гипотез:  \n",
    "**Нулевая гипотеза (H0): Средние значения количества обращений до обновления и после обновления равны (то есть, обновление не оказало влияния на количество обращений в техподдержку).**   \n",
    " **Альтернативная гипотеза (H1): Среднее количество обращений после обновления меньше, чем среднее количество обращений до обновления (то есть, обновление привело к снижению числа обращений).**  \n",
    "При анализе результатов парного двусторонней гипотезы, если p-значение меньше выбранного уровня статистической значимости (обычно 0.05), то отвергается нулевая гипотеза, и мы можем считать, что существует статистически значимое различие между средними значениями групп.\n",
    "Для расчета в библиотеке scipy.stats этот тест реализован функцией ttest_rel , можно будет создать до  обновления и после обновления даатфреймы, например так results = stats.ttest_rel(before_update, after_update, aternative='greater')"
   ]
  },
  {
   "cell_type": "markdown",
   "id": "213a4290",
   "metadata": {},
   "source": [
    "#### Выводы"
   ]
  },
  {
   "cell_type": "markdown",
   "id": "aab426ef",
   "metadata": {},
   "source": [
    "Проанализировали сервис аренды самокатов **GoFast** с помощью трех датафреймов по пользователям, поездкам и типам подписок.  \n",
    "Проверели и обработали данные на наличие пропущенных значений и дубликатов в датафреймах, а именно: создали новй столбец с месяцами,удалили 31 дубликат из датафрейма users, в итоге объединили данные о пользователях, поездках и подписках в один датафрейм.  Провели Исследовательский анализ данных согласно условиям,а так же проверили гипотезы.  \n",
    "**Можно сделать следующие выводы:**       \n",
    "  1.Самый часто встречаемый городом является Пятигорск встретился 219 раз, затем Екатеринбург 204 раз и Ростов-на-Дону, реже всего встречается Москва 168 раз.  \n",
    " 2.Пользователей с подпиской: **45.57%**  \n",
    "Пользователей без подписки: **54.43%**, разрыв составляет только 8.96% между показателями.    \n",
    " 3.Средний возраст пользователей составляет 24,9 лет. При этом самый часто встречающийся возраст 25 лет таких пользователей аж 145, затем 132 пользователя с возрастом 24 года. Было решено разделить возраста на группы, построив график, определили что наиболее больше пользователей в группе 26-35 их 790 пользователей. И только после этого идет возрастная группа 19-25 лет с кол-вом 637 пользователя. За 45+ нет ни одного пользователя, так же в данных есть 4 самых молодых пользователей им по 12 лет.Самому взрослому пользователю 43 года.  \n",
    " 4.Исследовали расстояние, которое пользователь преодолел за одну поездку, после получения таблицы, видим что пользователь 1309 совершает в среднем самые длинные поездки в 4,2 км, при этом самая минимальная поездка составляет 1,6 км у пользователя 908. На уровне всех пользователей в среднем расстрояние занимает 3,07км, максимальная поездка составила 7,2 км. \n",
    " 5.Самая длинная продолжительность поездок у Пользователя 657 в среднем 26,1 минут, пользователь 908 затрачивает в среднем на поездку 11 минут. При этом среднее продолжительность времени поездок составляет 17 минут, максимальное время составляло 40 минут, а вот минимальное 30 секунд.  \n",
    " 6.Создали датафреймы с подпиской и без подписок, для сравнения расстояний и времени поездок для пользователей обеих категорий. \n",
    "В случае расстрояний: *без подписок* поездки намного длинее достигают 7 км и имеют более большой размах и чаще встречаются, *в случае с подпиской* максимальное растроение не доходит 6 км, встречается реже.\n",
    "В случае длительности: *без подписок* поездки как и в расстоянии встречаются чаще при этом не превышают 35 мин, а *в случае подписок* максимальная дительность достигает 40 мин и как с расстрояним встречается реже.   При этом исследовали аномалии и пришли к следующим выводам:  \n",
    "6.1провал между двумя пиковыми значениями по продолжительности у пользователей без подписки связан с тем, что в этот промежуток пользователи переходят на такси и на данном промежутке стоимость такси и аренды самоката становятся сопоставимыми или даже близкими, и пользователи без подписки могут предпочесть такси из-за комфорта или других причин.\n",
    "И это как раз доказывает мою теорию, т.к для пользователей с подпиской пик является 3 км т.к. для них как раз таки выгоднее использовать самокат чем такси.  \n",
    "6.2.На обоих графиках о продолжительности и длительности возле минимальных значений, а именно в случае с пользователями без подписок есть данные. Возможно это связано: Множество небольших поездок среди пользователей без подписки вероятно, испытывают новый сервис для себя в качетсве аренды самокатов. Возможно, эти короткие поездки представляют собой своего рода 'пробные' поездки, которые пользователи предпринимают, прежде чем принять решение о подписке. Это подтверждается отсутствием подобных значений среди пользователей с подпиской. Такие данные не являются аномалией, так как для большинства пользователей естественно опробовать новую услугу на коротком расстоянии, прежде чем сделать долгосрочное обязательство в виде подписки.  \n",
    "6.3.Следует не забывать, что иногда  невозможно использовать самокат.Причины: поломка, недоступен,низкий заряд, другие ошибки и естественно пользователь сам передумал использовать самокат.   \n",
    " 6.4. В данных есть  95 строк по пользователям без подписок у которых длительность составляет меньше 30 секунд,но при этом поездка составляет от 4 до 7 км,  возможно  это акция как «бесплатные минуты» либо что-то другое для мотивации приобретения подписки для пользователей без подписок(требует обратной связи от поставщиков данных). Эти данные не были удалены.   \n",
    " 7.Добавили данные о выручке для того чтобы проверить следующие гипотезы:  \n",
    " -**Важно понять, тратят ли пользователи с подпиской больше времени на поездки?**  \n",
    "*Нулевая гипотеза (H0)*: Продолжительность поездок для пользователей с подпиской не отличается от продолжительности поездок для пользователей без подписки.  \n",
    "*Альтернативная гипотеза (H1)*: Продолжительность поездок для пользователей с подпиской меньше чем продолжительность поездок для пользователей без подписки.  \n",
    "    Получили p-значение: 1.2804098316645613e-34 (очень близкое к нулю). Отвергаем нулевую гипотезу. Это свидетельствует о том, что у нас есть статистически значимые доказательства в пользу того, что продолжительность поездок для пользователей с подпиской больше, чем для пользователей без подписки.   \n",
    " -**Расстояние одной поездки в 3130 метров — оптимальное с точки зрения износа самоката. Можно ли сказать, что расстояние, которое проезжают пользователи с подпиской за одну поездку, не превышает 3130 метров?**   \n",
    " *Нулевая гипотеза (H0)*: Расстояние, которое проезжают пользователи с подпиской за одну поездку, не превышает 3130 метров.  \n",
    "*Альтернативная гипотеза (H1)*: Расстояние, которое проезжают пользователи с подпиской за одну поездку, превышает 3130 метров.  \n",
    " P-value равен 0.9195368847849785 и больше уровня значимости alpha (0.05) Это означает, что результаты не являются статистически значимыми для отвержения нулевой гипотезы, и мы не имеем оснований считать, что среднее расстояние превышает 3130 метров.  \n",
    " -**Проверьте гипотезу о том, будет ли помесячная выручка от пользователей с подпиской по месяцам выше, чем выручка от пользователей без подписки**   \n",
    "*Нулевая гипотеза (H0)*: Средняя помесячная выручка от пользователей с подпиской равна средней помесячной выручки от пользователей без подписки.  \n",
    "*Альтернативная гипотеза (H1)*: Средняя помесячная выручка от пользователей с подпиской выше, чем средняя помесячная выручка от пользователей без подписки.  \n",
    "В данном случае, p-значении равно 1.8850394384715216e-31 и меньше уровня статистической значимости (alpha 0,05), тогда мы отвергаем нулевую гипотезу. Это указывает на то, что имеем основание считать, что средняя помесячная выручка от пользователей с подпиской выше, чем средняя помесячная выручка от пользователей без подписки.  \n",
    "-**Представьте такую ситуацию: техническая команда сервиса обновила сервера, с которыми взаимодействует мобильное приложение. Она надеется, что из-за этого количество обращений в техподдержку значимо снизилось.Некоторый файл содержит для каждого пользователя данные о количестве обращений до обновления и после него. Какой тест вам понадобился бы для проверки этой гипотезы?**    \n",
    "Можно провести проверку двусторонней гипотезы. В парном тесте основной вопрос заключается в том, есть ли статистически значимое различие между средними значениями двух связанных групп до обновления и после обновления.\n",
    "Формулировка гипотез:\n",
    "*Нулевая гипотеза (H0)*: Средние значения количества обращений до обновления и после обновления равны (то есть, обновление не оказало влияния на количество обращений в техподдержку).\n",
    "*Альтернативная гипотеза (H1)*: Среднее количество обращений после обновления меньше, чем среднее количество обращений до обновления (то есть, обновление привело к снижению числа обращений).\n",
    "При анализе результатов парного двусторонней гипотезы, если p-значение меньше выбранного уровня статистической значимости (обычно 0.05), то отвергается нулевая гипотеза, и мы можем считать, что существует статистически значимое различие между средними значениями групп. Для расчета в библиотеке scipy.stats этот тест реализован функцией ttest_rel , можно будет создать до обновления и после обновления даатфреймы, например так results = stats.ttest_rel(before_update, after_update, aternative='greater')"
   ]
  },
  {
   "cell_type": "code",
   "execution_count": null,
   "id": "0c0fae45",
   "metadata": {},
   "outputs": [],
   "source": []
  }
 ],
 "metadata": {
  "ExecuteTimeLog": [
   {
    "duration": 1236,
    "start_time": "2023-12-06T07:08:33.529Z"
   },
   {
    "duration": 185,
    "start_time": "2023-12-06T07:08:34.767Z"
   },
   {
    "duration": 0,
    "start_time": "2023-12-06T07:08:34.955Z"
   },
   {
    "duration": 0,
    "start_time": "2023-12-06T07:08:34.956Z"
   },
   {
    "duration": 0,
    "start_time": "2023-12-06T07:08:34.957Z"
   },
   {
    "duration": 0,
    "start_time": "2023-12-06T07:08:34.965Z"
   },
   {
    "duration": 0,
    "start_time": "2023-12-06T07:08:34.966Z"
   },
   {
    "duration": 0,
    "start_time": "2023-12-06T07:08:34.967Z"
   },
   {
    "duration": 0,
    "start_time": "2023-12-06T07:08:34.968Z"
   },
   {
    "duration": 0,
    "start_time": "2023-12-06T07:08:34.969Z"
   },
   {
    "duration": 0,
    "start_time": "2023-12-06T07:08:34.969Z"
   },
   {
    "duration": 0,
    "start_time": "2023-12-06T07:08:34.970Z"
   },
   {
    "duration": 0,
    "start_time": "2023-12-06T07:08:34.971Z"
   },
   {
    "duration": 0,
    "start_time": "2023-12-06T07:08:34.972Z"
   },
   {
    "duration": 0,
    "start_time": "2023-12-06T07:08:34.973Z"
   },
   {
    "duration": 0,
    "start_time": "2023-12-06T07:08:34.974Z"
   },
   {
    "duration": 0,
    "start_time": "2023-12-06T07:08:34.974Z"
   },
   {
    "duration": 0,
    "start_time": "2023-12-06T07:08:34.975Z"
   },
   {
    "duration": 0,
    "start_time": "2023-12-06T07:08:34.976Z"
   },
   {
    "duration": 0,
    "start_time": "2023-12-06T07:08:34.977Z"
   },
   {
    "duration": 0,
    "start_time": "2023-12-06T07:08:34.977Z"
   },
   {
    "duration": 0,
    "start_time": "2023-12-06T07:08:34.978Z"
   },
   {
    "duration": 0,
    "start_time": "2023-12-06T07:08:34.979Z"
   },
   {
    "duration": 0,
    "start_time": "2023-12-06T07:08:34.980Z"
   },
   {
    "duration": 0,
    "start_time": "2023-12-06T07:08:34.981Z"
   },
   {
    "duration": 0,
    "start_time": "2023-12-06T07:08:34.982Z"
   },
   {
    "duration": 0,
    "start_time": "2023-12-06T07:08:34.982Z"
   },
   {
    "duration": 0,
    "start_time": "2023-12-06T07:08:34.983Z"
   },
   {
    "duration": 0,
    "start_time": "2023-12-06T07:08:34.984Z"
   },
   {
    "duration": 0,
    "start_time": "2023-12-06T07:08:34.985Z"
   },
   {
    "duration": 0,
    "start_time": "2023-12-06T07:08:34.986Z"
   },
   {
    "duration": 0,
    "start_time": "2023-12-06T07:08:34.987Z"
   },
   {
    "duration": 0,
    "start_time": "2023-12-06T07:08:34.988Z"
   },
   {
    "duration": 0,
    "start_time": "2023-12-06T07:08:34.988Z"
   },
   {
    "duration": 0,
    "start_time": "2023-12-06T07:08:34.989Z"
   },
   {
    "duration": 0,
    "start_time": "2023-12-06T07:08:34.990Z"
   },
   {
    "duration": 0,
    "start_time": "2023-12-06T07:08:34.991Z"
   },
   {
    "duration": 0,
    "start_time": "2023-12-06T07:08:34.992Z"
   },
   {
    "duration": 0,
    "start_time": "2023-12-06T07:08:34.993Z"
   },
   {
    "duration": 0,
    "start_time": "2023-12-06T07:08:34.993Z"
   },
   {
    "duration": 0,
    "start_time": "2023-12-06T07:08:34.994Z"
   },
   {
    "duration": 0,
    "start_time": "2023-12-06T07:08:34.995Z"
   },
   {
    "duration": 0,
    "start_time": "2023-12-06T07:08:34.996Z"
   },
   {
    "duration": 94,
    "start_time": "2023-12-06T07:09:01.427Z"
   },
   {
    "duration": 77,
    "start_time": "2023-12-06T07:09:17.204Z"
   },
   {
    "duration": 80,
    "start_time": "2023-12-06T07:09:26.846Z"
   },
   {
    "duration": 1113,
    "start_time": "2023-12-06T07:09:31.842Z"
   },
   {
    "duration": 102,
    "start_time": "2023-12-06T07:09:32.956Z"
   },
   {
    "duration": 98,
    "start_time": "2023-12-06T07:09:33.060Z"
   },
   {
    "duration": 81,
    "start_time": "2023-12-06T07:09:33.160Z"
   },
   {
    "duration": 11,
    "start_time": "2023-12-06T07:09:33.244Z"
   },
   {
    "duration": 10,
    "start_time": "2023-12-06T07:09:33.256Z"
   },
   {
    "duration": 10,
    "start_time": "2023-12-06T07:09:33.268Z"
   },
   {
    "duration": 14,
    "start_time": "2023-12-06T07:09:33.280Z"
   },
   {
    "duration": 8,
    "start_time": "2023-12-06T07:09:33.295Z"
   },
   {
    "duration": 11,
    "start_time": "2023-12-06T07:09:33.305Z"
   },
   {
    "duration": 19,
    "start_time": "2023-12-06T07:09:33.317Z"
   },
   {
    "duration": 28,
    "start_time": "2023-12-06T07:09:33.338Z"
   },
   {
    "duration": 5,
    "start_time": "2023-12-06T07:09:33.367Z"
   },
   {
    "duration": 5,
    "start_time": "2023-12-06T07:09:33.375Z"
   },
   {
    "duration": 5,
    "start_time": "2023-12-06T07:09:33.381Z"
   },
   {
    "duration": 12,
    "start_time": "2023-12-06T07:09:33.387Z"
   },
   {
    "duration": 12,
    "start_time": "2023-12-06T07:09:33.400Z"
   },
   {
    "duration": 6,
    "start_time": "2023-12-06T07:09:33.414Z"
   },
   {
    "duration": 5,
    "start_time": "2023-12-06T07:09:33.422Z"
   },
   {
    "duration": 166,
    "start_time": "2023-12-06T07:09:33.428Z"
   },
   {
    "duration": 86,
    "start_time": "2023-12-06T07:09:33.596Z"
   },
   {
    "duration": 6,
    "start_time": "2023-12-06T07:09:33.683Z"
   },
   {
    "duration": 131,
    "start_time": "2023-12-06T07:09:33.690Z"
   },
   {
    "duration": 8,
    "start_time": "2023-12-06T07:09:33.823Z"
   },
   {
    "duration": 7,
    "start_time": "2023-12-06T07:09:33.832Z"
   },
   {
    "duration": 28,
    "start_time": "2023-12-06T07:09:33.840Z"
   },
   {
    "duration": 7,
    "start_time": "2023-12-06T07:09:33.870Z"
   },
   {
    "duration": 10,
    "start_time": "2023-12-06T07:09:33.878Z"
   },
   {
    "duration": 29,
    "start_time": "2023-12-06T07:09:33.889Z"
   },
   {
    "duration": 2,
    "start_time": "2023-12-06T07:09:33.919Z"
   },
   {
    "duration": 16,
    "start_time": "2023-12-06T07:09:33.923Z"
   },
   {
    "duration": 36,
    "start_time": "2023-12-06T07:09:33.940Z"
   },
   {
    "duration": 671,
    "start_time": "2023-12-06T07:09:33.978Z"
   },
   {
    "duration": 40,
    "start_time": "2023-12-06T07:09:34.651Z"
   },
   {
    "duration": 3,
    "start_time": "2023-12-06T07:09:34.692Z"
   },
   {
    "duration": 19,
    "start_time": "2023-12-06T07:09:34.697Z"
   },
   {
    "duration": 3,
    "start_time": "2023-12-06T07:09:34.717Z"
   },
   {
    "duration": 9,
    "start_time": "2023-12-06T07:09:34.721Z"
   },
   {
    "duration": 110,
    "start_time": "2023-12-06T07:09:34.732Z"
   },
   {
    "duration": 0,
    "start_time": "2023-12-06T07:09:34.843Z"
   },
   {
    "duration": 0,
    "start_time": "2023-12-06T07:09:34.844Z"
   },
   {
    "duration": 0,
    "start_time": "2023-12-06T07:09:34.845Z"
   },
   {
    "duration": 0,
    "start_time": "2023-12-06T07:09:34.846Z"
   },
   {
    "duration": 6,
    "start_time": "2023-12-06T07:18:57.593Z"
   },
   {
    "duration": 1092,
    "start_time": "2023-12-06T07:21:10.473Z"
   },
   {
    "duration": 86,
    "start_time": "2023-12-06T07:21:11.567Z"
   },
   {
    "duration": 104,
    "start_time": "2023-12-06T07:21:11.657Z"
   },
   {
    "duration": 67,
    "start_time": "2023-12-06T07:21:11.762Z"
   },
   {
    "duration": 10,
    "start_time": "2023-12-06T07:21:11.831Z"
   },
   {
    "duration": 44,
    "start_time": "2023-12-06T07:21:11.843Z"
   },
   {
    "duration": 42,
    "start_time": "2023-12-06T07:21:11.888Z"
   },
   {
    "duration": 15,
    "start_time": "2023-12-06T07:21:11.932Z"
   },
   {
    "duration": 17,
    "start_time": "2023-12-06T07:21:11.949Z"
   },
   {
    "duration": 48,
    "start_time": "2023-12-06T07:21:11.967Z"
   },
   {
    "duration": 38,
    "start_time": "2023-12-06T07:21:12.017Z"
   },
   {
    "duration": 60,
    "start_time": "2023-12-06T07:21:12.056Z"
   },
   {
    "duration": 17,
    "start_time": "2023-12-06T07:21:12.118Z"
   },
   {
    "duration": 15,
    "start_time": "2023-12-06T07:21:12.137Z"
   },
   {
    "duration": 16,
    "start_time": "2023-12-06T07:21:12.153Z"
   },
   {
    "duration": 27,
    "start_time": "2023-12-06T07:21:12.170Z"
   },
   {
    "duration": 24,
    "start_time": "2023-12-06T07:21:12.198Z"
   },
   {
    "duration": 20,
    "start_time": "2023-12-06T07:21:12.224Z"
   },
   {
    "duration": 34,
    "start_time": "2023-12-06T07:21:12.246Z"
   },
   {
    "duration": 145,
    "start_time": "2023-12-06T07:21:12.282Z"
   },
   {
    "duration": 92,
    "start_time": "2023-12-06T07:21:12.428Z"
   },
   {
    "duration": 7,
    "start_time": "2023-12-06T07:21:12.522Z"
   },
   {
    "duration": 152,
    "start_time": "2023-12-06T07:21:12.530Z"
   },
   {
    "duration": 12,
    "start_time": "2023-12-06T07:21:12.684Z"
   },
   {
    "duration": 46,
    "start_time": "2023-12-06T07:21:12.698Z"
   },
   {
    "duration": 18,
    "start_time": "2023-12-06T07:21:12.746Z"
   },
   {
    "duration": 15,
    "start_time": "2023-12-06T07:21:12.767Z"
   },
   {
    "duration": 16,
    "start_time": "2023-12-06T07:21:12.783Z"
   },
   {
    "duration": 44,
    "start_time": "2023-12-06T07:21:12.800Z"
   },
   {
    "duration": 13,
    "start_time": "2023-12-06T07:21:12.846Z"
   },
   {
    "duration": 36,
    "start_time": "2023-12-06T07:21:12.860Z"
   },
   {
    "duration": 19,
    "start_time": "2023-12-06T07:21:12.897Z"
   },
   {
    "duration": 688,
    "start_time": "2023-12-06T07:21:12.917Z"
   },
   {
    "duration": 44,
    "start_time": "2023-12-06T07:21:13.607Z"
   },
   {
    "duration": 13,
    "start_time": "2023-12-06T07:21:13.652Z"
   },
   {
    "duration": 28,
    "start_time": "2023-12-06T07:21:13.667Z"
   },
   {
    "duration": 23,
    "start_time": "2023-12-06T07:21:13.697Z"
   },
   {
    "duration": 31,
    "start_time": "2023-12-06T07:21:13.722Z"
   },
   {
    "duration": 113,
    "start_time": "2023-12-06T07:21:13.755Z"
   },
   {
    "duration": 1,
    "start_time": "2023-12-06T07:21:13.869Z"
   },
   {
    "duration": 0,
    "start_time": "2023-12-06T07:21:13.870Z"
   },
   {
    "duration": 0,
    "start_time": "2023-12-06T07:21:13.872Z"
   },
   {
    "duration": 0,
    "start_time": "2023-12-06T07:21:13.873Z"
   },
   {
    "duration": 1245,
    "start_time": "2023-12-08T11:24:27.011Z"
   },
   {
    "duration": 273,
    "start_time": "2023-12-08T11:24:28.257Z"
   },
   {
    "duration": 13,
    "start_time": "2023-12-08T11:24:28.532Z"
   },
   {
    "duration": 14,
    "start_time": "2023-12-08T11:24:28.547Z"
   },
   {
    "duration": 16,
    "start_time": "2023-12-08T11:24:28.563Z"
   },
   {
    "duration": 22,
    "start_time": "2023-12-08T11:24:28.581Z"
   },
   {
    "duration": 19,
    "start_time": "2023-12-08T11:24:28.605Z"
   },
   {
    "duration": 3,
    "start_time": "2023-12-08T11:24:28.626Z"
   },
   {
    "duration": 20,
    "start_time": "2023-12-08T11:24:28.630Z"
   },
   {
    "duration": 13,
    "start_time": "2023-12-08T11:24:28.653Z"
   },
   {
    "duration": 24,
    "start_time": "2023-12-08T11:24:28.668Z"
   },
   {
    "duration": 28,
    "start_time": "2023-12-08T11:24:28.694Z"
   },
   {
    "duration": 11,
    "start_time": "2023-12-08T11:24:28.724Z"
   },
   {
    "duration": 5,
    "start_time": "2023-12-08T11:24:28.737Z"
   },
   {
    "duration": 17,
    "start_time": "2023-12-08T11:24:28.743Z"
   },
   {
    "duration": 39,
    "start_time": "2023-12-08T11:24:28.762Z"
   },
   {
    "duration": 11,
    "start_time": "2023-12-08T11:24:28.803Z"
   },
   {
    "duration": 14,
    "start_time": "2023-12-08T11:24:28.816Z"
   },
   {
    "duration": 8,
    "start_time": "2023-12-08T11:24:28.832Z"
   },
   {
    "duration": 13,
    "start_time": "2023-12-08T11:24:28.841Z"
   },
   {
    "duration": 8,
    "start_time": "2023-12-08T11:24:28.855Z"
   },
   {
    "duration": 170,
    "start_time": "2023-12-08T11:24:28.864Z"
   },
   {
    "duration": 113,
    "start_time": "2023-12-08T11:24:29.036Z"
   },
   {
    "duration": 9,
    "start_time": "2023-12-08T11:24:29.151Z"
   },
   {
    "duration": 158,
    "start_time": "2023-12-08T11:24:29.161Z"
   },
   {
    "duration": 316,
    "start_time": "2023-12-08T11:24:29.321Z"
   },
   {
    "duration": 8,
    "start_time": "2023-12-08T11:24:29.639Z"
   },
   {
    "duration": 8,
    "start_time": "2023-12-08T11:24:29.651Z"
   },
   {
    "duration": 9,
    "start_time": "2023-12-08T11:24:29.660Z"
   },
   {
    "duration": 354,
    "start_time": "2023-12-08T11:24:29.671Z"
   },
   {
    "duration": 9,
    "start_time": "2023-12-08T11:24:30.027Z"
   },
   {
    "duration": 70,
    "start_time": "2023-12-08T11:24:30.037Z"
   },
   {
    "duration": 326,
    "start_time": "2023-12-08T11:24:30.109Z"
   },
   {
    "duration": 32,
    "start_time": "2023-12-08T11:24:30.437Z"
   },
   {
    "duration": 38,
    "start_time": "2023-12-08T11:24:30.471Z"
   },
   {
    "duration": 84,
    "start_time": "2023-12-08T11:24:30.511Z"
   },
   {
    "duration": 47,
    "start_time": "2023-12-08T11:24:30.597Z"
   },
   {
    "duration": 928,
    "start_time": "2023-12-08T11:24:30.646Z"
   },
   {
    "duration": 34,
    "start_time": "2023-12-08T11:24:31.576Z"
   },
   {
    "duration": 25,
    "start_time": "2023-12-08T11:24:31.612Z"
   },
   {
    "duration": 100,
    "start_time": "2023-12-08T11:24:31.638Z"
   },
   {
    "duration": 6,
    "start_time": "2023-12-08T11:24:31.740Z"
   },
   {
    "duration": 22,
    "start_time": "2023-12-08T11:24:31.748Z"
   },
   {
    "duration": 8,
    "start_time": "2023-12-08T11:24:31.772Z"
   },
   {
    "duration": 24,
    "start_time": "2023-12-08T11:24:31.782Z"
   },
   {
    "duration": 1252,
    "start_time": "2023-12-08T11:35:35.813Z"
   },
   {
    "duration": 281,
    "start_time": "2023-12-08T11:35:37.067Z"
   },
   {
    "duration": 12,
    "start_time": "2023-12-08T11:35:37.350Z"
   },
   {
    "duration": 12,
    "start_time": "2023-12-08T11:35:37.364Z"
   },
   {
    "duration": 16,
    "start_time": "2023-12-08T11:35:37.378Z"
   },
   {
    "duration": 16,
    "start_time": "2023-12-08T11:35:37.396Z"
   },
   {
    "duration": 34,
    "start_time": "2023-12-08T11:35:37.414Z"
   },
   {
    "duration": 15,
    "start_time": "2023-12-08T11:35:37.450Z"
   },
   {
    "duration": 25,
    "start_time": "2023-12-08T11:35:37.467Z"
   },
   {
    "duration": 23,
    "start_time": "2023-12-08T11:35:37.496Z"
   },
   {
    "duration": 5,
    "start_time": "2023-12-08T11:35:37.522Z"
   },
   {
    "duration": 29,
    "start_time": "2023-12-08T11:35:37.530Z"
   },
   {
    "duration": 36,
    "start_time": "2023-12-08T11:35:37.561Z"
   },
   {
    "duration": 6,
    "start_time": "2023-12-08T11:35:37.599Z"
   },
   {
    "duration": 19,
    "start_time": "2023-12-08T11:35:37.607Z"
   },
   {
    "duration": 27,
    "start_time": "2023-12-08T11:35:37.628Z"
   },
   {
    "duration": 21,
    "start_time": "2023-12-08T11:35:37.657Z"
   },
   {
    "duration": 19,
    "start_time": "2023-12-08T11:35:37.680Z"
   },
   {
    "duration": 10,
    "start_time": "2023-12-08T11:35:37.701Z"
   },
   {
    "duration": 10,
    "start_time": "2023-12-08T11:35:37.713Z"
   },
   {
    "duration": 37,
    "start_time": "2023-12-08T11:35:37.725Z"
   },
   {
    "duration": 180,
    "start_time": "2023-12-08T11:35:37.764Z"
   },
   {
    "duration": 115,
    "start_time": "2023-12-08T11:35:37.946Z"
   },
   {
    "duration": 8,
    "start_time": "2023-12-08T11:35:38.063Z"
   },
   {
    "duration": 158,
    "start_time": "2023-12-08T11:35:38.073Z"
   },
   {
    "duration": 280,
    "start_time": "2023-12-08T11:35:38.233Z"
   },
   {
    "duration": 15,
    "start_time": "2023-12-08T11:35:38.515Z"
   },
   {
    "duration": 35,
    "start_time": "2023-12-08T11:35:38.533Z"
   },
   {
    "duration": 20,
    "start_time": "2023-12-08T11:35:38.570Z"
   },
   {
    "duration": 365,
    "start_time": "2023-12-08T11:35:38.591Z"
   },
   {
    "duration": 8,
    "start_time": "2023-12-08T11:35:38.957Z"
   },
   {
    "duration": 37,
    "start_time": "2023-12-08T11:35:38.967Z"
   },
   {
    "duration": 342,
    "start_time": "2023-12-08T11:35:39.005Z"
   },
   {
    "duration": 31,
    "start_time": "2023-12-08T11:35:39.349Z"
   },
   {
    "duration": 4,
    "start_time": "2023-12-08T11:35:39.381Z"
   },
   {
    "duration": 45,
    "start_time": "2023-12-08T11:35:39.386Z"
   },
   {
    "duration": 17,
    "start_time": "2023-12-08T11:35:39.433Z"
   },
   {
    "duration": 894,
    "start_time": "2023-12-08T11:35:39.452Z"
   },
   {
    "duration": 37,
    "start_time": "2023-12-08T11:35:40.348Z"
   },
   {
    "duration": 4,
    "start_time": "2023-12-08T11:35:40.386Z"
   },
   {
    "duration": 34,
    "start_time": "2023-12-08T11:35:40.391Z"
   },
   {
    "duration": 4,
    "start_time": "2023-12-08T11:35:40.427Z"
   },
   {
    "duration": 12,
    "start_time": "2023-12-08T11:35:40.433Z"
   },
   {
    "duration": 13,
    "start_time": "2023-12-08T11:35:40.447Z"
   },
   {
    "duration": 18,
    "start_time": "2023-12-08T11:35:40.462Z"
   },
   {
    "duration": 1115,
    "start_time": "2023-12-11T13:32:32.057Z"
   },
   {
    "duration": 351,
    "start_time": "2023-12-11T13:32:33.174Z"
   },
   {
    "duration": 10,
    "start_time": "2023-12-11T13:32:33.527Z"
   },
   {
    "duration": 9,
    "start_time": "2023-12-11T13:32:33.539Z"
   },
   {
    "duration": 4,
    "start_time": "2023-12-11T13:32:33.550Z"
   },
   {
    "duration": 10,
    "start_time": "2023-12-11T13:32:33.556Z"
   },
   {
    "duration": 11,
    "start_time": "2023-12-11T13:32:33.567Z"
   },
   {
    "duration": 3,
    "start_time": "2023-12-11T13:32:33.579Z"
   },
   {
    "duration": 23,
    "start_time": "2023-12-11T13:32:33.583Z"
   },
   {
    "duration": 10,
    "start_time": "2023-12-11T13:32:33.609Z"
   },
   {
    "duration": 7,
    "start_time": "2023-12-11T13:32:33.621Z"
   },
   {
    "duration": 14,
    "start_time": "2023-12-11T13:32:33.629Z"
   },
   {
    "duration": 9,
    "start_time": "2023-12-11T13:32:33.645Z"
   },
   {
    "duration": 5,
    "start_time": "2023-12-11T13:32:33.655Z"
   },
   {
    "duration": 11,
    "start_time": "2023-12-11T13:32:33.661Z"
   },
   {
    "duration": 8,
    "start_time": "2023-12-11T13:32:33.682Z"
   },
   {
    "duration": 6,
    "start_time": "2023-12-11T13:32:33.692Z"
   },
   {
    "duration": 12,
    "start_time": "2023-12-11T13:32:33.700Z"
   },
   {
    "duration": 7,
    "start_time": "2023-12-11T13:32:33.714Z"
   },
   {
    "duration": 6,
    "start_time": "2023-12-11T13:32:33.723Z"
   },
   {
    "duration": 14,
    "start_time": "2023-12-11T13:32:33.731Z"
   },
   {
    "duration": 165,
    "start_time": "2023-12-11T13:32:33.746Z"
   },
   {
    "duration": 99,
    "start_time": "2023-12-11T13:32:33.912Z"
   },
   {
    "duration": 7,
    "start_time": "2023-12-11T13:32:34.013Z"
   },
   {
    "duration": 133,
    "start_time": "2023-12-11T13:32:34.021Z"
   },
   {
    "duration": 285,
    "start_time": "2023-12-11T13:32:34.155Z"
   },
   {
    "duration": 8,
    "start_time": "2023-12-11T13:32:34.442Z"
   },
   {
    "duration": 18,
    "start_time": "2023-12-11T13:32:34.453Z"
   },
   {
    "duration": 16,
    "start_time": "2023-12-11T13:32:34.472Z"
   },
   {
    "duration": 287,
    "start_time": "2023-12-11T13:32:34.489Z"
   },
   {
    "duration": 6,
    "start_time": "2023-12-11T13:32:34.781Z"
   },
   {
    "duration": 4,
    "start_time": "2023-12-11T13:32:34.789Z"
   },
   {
    "duration": 278,
    "start_time": "2023-12-11T13:32:34.794Z"
   },
   {
    "duration": 32,
    "start_time": "2023-12-11T13:32:35.074Z"
   },
   {
    "duration": 3,
    "start_time": "2023-12-11T13:32:35.107Z"
   },
   {
    "duration": 19,
    "start_time": "2023-12-11T13:32:35.111Z"
   },
   {
    "duration": 12,
    "start_time": "2023-12-11T13:32:35.131Z"
   },
   {
    "duration": 783,
    "start_time": "2023-12-11T13:32:35.144Z"
   },
   {
    "duration": 15,
    "start_time": "2023-12-11T13:32:35.928Z"
   },
   {
    "duration": 155,
    "start_time": "2023-12-11T13:32:35.945Z"
   },
   {
    "duration": 30,
    "start_time": "2023-12-11T13:32:36.101Z"
   },
   {
    "duration": 3,
    "start_time": "2023-12-11T13:32:36.132Z"
   },
   {
    "duration": 34,
    "start_time": "2023-12-11T13:32:36.136Z"
   },
   {
    "duration": 3,
    "start_time": "2023-12-11T13:32:36.171Z"
   },
   {
    "duration": 5,
    "start_time": "2023-12-11T13:32:36.181Z"
   },
   {
    "duration": 18,
    "start_time": "2023-12-11T13:32:36.187Z"
   },
   {
    "duration": 24,
    "start_time": "2023-12-11T13:32:36.206Z"
   },
   {
    "duration": 1075,
    "start_time": "2023-12-11T13:39:43.714Z"
   },
   {
    "duration": 238,
    "start_time": "2023-12-11T13:39:44.790Z"
   },
   {
    "duration": 11,
    "start_time": "2023-12-11T13:39:45.029Z"
   },
   {
    "duration": 47,
    "start_time": "2023-12-11T13:39:45.042Z"
   },
   {
    "duration": 16,
    "start_time": "2023-12-11T13:39:45.091Z"
   },
   {
    "duration": 16,
    "start_time": "2023-12-11T13:39:45.108Z"
   },
   {
    "duration": 15,
    "start_time": "2023-12-11T13:39:45.126Z"
   },
   {
    "duration": 3,
    "start_time": "2023-12-11T13:39:45.144Z"
   },
   {
    "duration": 10,
    "start_time": "2023-12-11T13:39:45.149Z"
   },
   {
    "duration": 24,
    "start_time": "2023-12-11T13:39:45.163Z"
   },
   {
    "duration": 3,
    "start_time": "2023-12-11T13:39:45.189Z"
   },
   {
    "duration": 13,
    "start_time": "2023-12-11T13:39:45.193Z"
   },
   {
    "duration": 9,
    "start_time": "2023-12-11T13:39:45.207Z"
   },
   {
    "duration": 5,
    "start_time": "2023-12-11T13:39:45.218Z"
   },
   {
    "duration": 5,
    "start_time": "2023-12-11T13:39:45.224Z"
   },
   {
    "duration": 11,
    "start_time": "2023-12-11T13:39:45.231Z"
   },
   {
    "duration": 15,
    "start_time": "2023-12-11T13:39:45.282Z"
   },
   {
    "duration": 10,
    "start_time": "2023-12-11T13:39:45.299Z"
   },
   {
    "duration": 12,
    "start_time": "2023-12-11T13:39:45.311Z"
   },
   {
    "duration": 6,
    "start_time": "2023-12-11T13:39:45.325Z"
   },
   {
    "duration": 6,
    "start_time": "2023-12-11T13:39:45.332Z"
   },
   {
    "duration": 151,
    "start_time": "2023-12-11T13:39:45.339Z"
   },
   {
    "duration": 111,
    "start_time": "2023-12-11T13:39:45.492Z"
   },
   {
    "duration": 8,
    "start_time": "2023-12-11T13:39:45.604Z"
   },
   {
    "duration": 124,
    "start_time": "2023-12-11T13:39:45.613Z"
   },
   {
    "duration": 279,
    "start_time": "2023-12-11T13:39:45.738Z"
   },
   {
    "duration": 9,
    "start_time": "2023-12-11T13:39:46.018Z"
   },
   {
    "duration": 8,
    "start_time": "2023-12-11T13:39:46.029Z"
   },
   {
    "duration": 16,
    "start_time": "2023-12-11T13:39:46.038Z"
   },
   {
    "duration": 326,
    "start_time": "2023-12-11T13:39:46.056Z"
   },
   {
    "duration": 7,
    "start_time": "2023-12-11T13:39:46.383Z"
   },
   {
    "duration": 4,
    "start_time": "2023-12-11T13:39:46.391Z"
   },
   {
    "duration": 292,
    "start_time": "2023-12-11T13:39:46.397Z"
   },
   {
    "duration": 26,
    "start_time": "2023-12-11T13:39:46.691Z"
   },
   {
    "duration": 6,
    "start_time": "2023-12-11T13:39:46.718Z"
   },
   {
    "duration": 17,
    "start_time": "2023-12-11T13:39:46.725Z"
   },
   {
    "duration": 46,
    "start_time": "2023-12-11T13:39:46.744Z"
   },
   {
    "duration": 736,
    "start_time": "2023-12-11T13:39:46.792Z"
   },
   {
    "duration": 16,
    "start_time": "2023-12-11T13:39:47.530Z"
   },
   {
    "duration": 165,
    "start_time": "2023-12-11T13:39:47.548Z"
   },
   {
    "duration": 41,
    "start_time": "2023-12-11T13:39:47.715Z"
   },
   {
    "duration": 4,
    "start_time": "2023-12-11T13:39:47.758Z"
   },
   {
    "duration": 55,
    "start_time": "2023-12-11T13:39:47.764Z"
   },
   {
    "duration": 28,
    "start_time": "2023-12-11T13:39:47.822Z"
   },
   {
    "duration": 21,
    "start_time": "2023-12-11T13:39:47.852Z"
   },
   {
    "duration": 30,
    "start_time": "2023-12-11T13:39:47.875Z"
   },
   {
    "duration": 10,
    "start_time": "2023-12-11T13:39:47.907Z"
   },
   {
    "duration": 1109,
    "start_time": "2023-12-12T00:51:56.927Z"
   },
   {
    "duration": 432,
    "start_time": "2023-12-12T00:51:58.039Z"
   },
   {
    "duration": 11,
    "start_time": "2023-12-12T00:51:58.473Z"
   },
   {
    "duration": 12,
    "start_time": "2023-12-12T00:51:58.486Z"
   },
   {
    "duration": 5,
    "start_time": "2023-12-12T00:51:58.499Z"
   },
   {
    "duration": 18,
    "start_time": "2023-12-12T00:51:58.506Z"
   },
   {
    "duration": 13,
    "start_time": "2023-12-12T00:51:58.526Z"
   },
   {
    "duration": 8,
    "start_time": "2023-12-12T00:51:58.540Z"
   },
   {
    "duration": 10,
    "start_time": "2023-12-12T00:51:58.549Z"
   },
   {
    "duration": 10,
    "start_time": "2023-12-12T00:51:58.562Z"
   },
   {
    "duration": 12,
    "start_time": "2023-12-12T00:51:58.574Z"
   },
   {
    "duration": 28,
    "start_time": "2023-12-12T00:51:58.587Z"
   },
   {
    "duration": 9,
    "start_time": "2023-12-12T00:51:58.616Z"
   },
   {
    "duration": 4,
    "start_time": "2023-12-12T00:51:58.631Z"
   },
   {
    "duration": 10,
    "start_time": "2023-12-12T00:51:58.637Z"
   },
   {
    "duration": 10,
    "start_time": "2023-12-12T00:51:58.648Z"
   },
   {
    "duration": 6,
    "start_time": "2023-12-12T00:51:58.659Z"
   },
   {
    "duration": 15,
    "start_time": "2023-12-12T00:51:58.666Z"
   },
   {
    "duration": 7,
    "start_time": "2023-12-12T00:51:58.683Z"
   },
   {
    "duration": 6,
    "start_time": "2023-12-12T00:51:58.692Z"
   },
   {
    "duration": 7,
    "start_time": "2023-12-12T00:51:58.731Z"
   },
   {
    "duration": 147,
    "start_time": "2023-12-12T00:51:58.740Z"
   },
   {
    "duration": 98,
    "start_time": "2023-12-12T00:51:58.889Z"
   },
   {
    "duration": 8,
    "start_time": "2023-12-12T00:51:58.989Z"
   },
   {
    "duration": 143,
    "start_time": "2023-12-12T00:51:58.999Z"
   },
   {
    "duration": 261,
    "start_time": "2023-12-12T00:51:59.143Z"
   },
   {
    "duration": 9,
    "start_time": "2023-12-12T00:51:59.406Z"
   },
   {
    "duration": 6,
    "start_time": "2023-12-12T00:51:59.432Z"
   },
   {
    "duration": 60,
    "start_time": "2023-12-12T00:51:59.440Z"
   },
   {
    "duration": 413,
    "start_time": "2023-12-12T00:51:59.501Z"
   },
   {
    "duration": 20,
    "start_time": "2023-12-12T00:51:59.916Z"
   },
   {
    "duration": 7,
    "start_time": "2023-12-12T00:51:59.937Z"
   },
   {
    "duration": 287,
    "start_time": "2023-12-12T00:51:59.946Z"
   },
   {
    "duration": 29,
    "start_time": "2023-12-12T00:52:00.234Z"
   },
   {
    "duration": 27,
    "start_time": "2023-12-12T00:52:00.264Z"
   },
   {
    "duration": 44,
    "start_time": "2023-12-12T00:52:00.292Z"
   },
   {
    "duration": 30,
    "start_time": "2023-12-12T00:52:00.338Z"
   },
   {
    "duration": 822,
    "start_time": "2023-12-12T00:52:00.370Z"
   },
   {
    "duration": 16,
    "start_time": "2023-12-12T00:52:01.195Z"
   },
   {
    "duration": 186,
    "start_time": "2023-12-12T00:52:01.213Z"
   },
   {
    "duration": 40,
    "start_time": "2023-12-12T00:52:01.401Z"
   },
   {
    "duration": 42,
    "start_time": "2023-12-12T00:52:01.443Z"
   },
   {
    "duration": 62,
    "start_time": "2023-12-12T00:52:01.487Z"
   },
   {
    "duration": 20,
    "start_time": "2023-12-12T00:52:01.551Z"
   },
   {
    "duration": 42,
    "start_time": "2023-12-12T00:52:01.573Z"
   },
   {
    "duration": 67,
    "start_time": "2023-12-12T00:52:01.617Z"
   },
   {
    "duration": 52,
    "start_time": "2023-12-12T00:52:01.686Z"
   }
  ],
  "kernelspec": {
   "display_name": "Python 3 (ipykernel)",
   "language": "python",
   "name": "python3"
  },
  "language_info": {
   "codemirror_mode": {
    "name": "ipython",
    "version": 3
   },
   "file_extension": ".py",
   "mimetype": "text/x-python",
   "name": "python",
   "nbconvert_exporter": "python",
   "pygments_lexer": "ipython3",
   "version": "3.9.18"
  },
  "toc": {
   "base_numbering": 1,
   "nav_menu": {},
   "number_sections": true,
   "sideBar": true,
   "skip_h1_title": true,
   "title_cell": "Table of Contents",
   "title_sidebar": "Contents",
   "toc_cell": true,
   "toc_position": {},
   "toc_section_display": true,
   "toc_window_display": false
  },
  "varInspector": {
   "cols": {
    "lenName": 16,
    "lenType": 16,
    "lenVar": 40
   },
   "kernels_config": {
    "python": {
     "delete_cmd_postfix": "",
     "delete_cmd_prefix": "del ",
     "library": "var_list.py",
     "varRefreshCmd": "print(var_dic_list())"
    },
    "r": {
     "delete_cmd_postfix": ") ",
     "delete_cmd_prefix": "rm(",
     "library": "var_list.r",
     "varRefreshCmd": "cat(var_dic_list()) "
    }
   },
   "types_to_exclude": [
    "module",
    "function",
    "builtin_function_or_method",
    "instance",
    "_Feature"
   ],
   "window_display": false
  }
 },
 "nbformat": 4,
 "nbformat_minor": 5
}
